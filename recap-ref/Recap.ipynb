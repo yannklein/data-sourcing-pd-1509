{
 "cells": [
  {
   "cell_type": "markdown",
   "metadata": {},
   "source": [
    "# CSV + API\n",
    "\n",
    "In this reboot, we are going to use:\n",
    "\n",
    "- The [Goodreads books](https://www.kaggle.com/jealousleopard/goodreadsbooks) dataset from Kaggle.\n",
    "- The [Open Library Books API](https://openlibrary.org/dev/docs/api/books)\n",
    "\n",
    "The goal of this livecode is to load the data from a CSV + loop over rows to enrich each row with information such as:\n",
    "\n",
    "- List of subjects (Science, Humor, Travel, etc.)\n",
    "- The cover URL of the book\n",
    "- Other information you'd find useful in the JSON API"
   ]
  },
  {
   "cell_type": "markdown",
   "metadata": {},
   "source": [
    "First, download the CSV in the local folder:"
   ]
  },
  {
   "cell_type": "code",
   "execution_count": 2,
   "metadata": {},
   "outputs": [
    {
     "name": "stdout",
     "output_type": "stream",
     "text": [
      "  % Total    % Received % Xferd  Average Speed   Time    Time     Time  Current\n",
      "                                 Dload  Upload   Total   Spent    Left  Speed\n",
      "100 1509k  100 1509k    0     0  3202k      0 --:--:-- --:--:-- --:--:-- 3224k\n"
     ]
    }
   ],
   "source": [
    "!curl -L https://gist.githubusercontent.com/ssaunier/351b17f5a7a009808b60aeacd1f4a036/raw/books.csv > books.csv"
   ]
  },
  {
   "cell_type": "code",
   "execution_count": 3,
   "metadata": {},
   "outputs": [
    {
     "name": "stdout",
     "output_type": "stream",
     "text": [
      "total 3040\n",
      "-rw-r--r--  1 kleinyann  staff   579B Nov 29  2022 README.md\n",
      "-rw-r--r--  1 kleinyann  staff   3.8K Jul 11 14:11 Recap.ipynb\n",
      "-rw-r--r--  1 kleinyann  staff   1.5M Jul 11 17:02 books.csv\n"
     ]
    }
   ],
   "source": [
    "!ls -lh"
   ]
  },
  {
   "cell_type": "markdown",
   "metadata": {},
   "source": [
    "Then import the usual suspects!"
   ]
  },
  {
   "cell_type": "code",
   "execution_count": 3,
   "metadata": {},
   "outputs": [],
   "source": [
    "import requests\n",
    "import pandas as pd\n",
    "import numpy as np"
   ]
  },
  {
   "cell_type": "markdown",
   "metadata": {},
   "source": [
    "## Load books from CSV"
   ]
  },
  {
   "cell_type": "code",
   "execution_count": 5,
   "metadata": {
    "tags": [
     "challengify"
    ]
   },
   "outputs": [
    {
     "data": {
      "text/html": [
       "<div>\n",
       "<style scoped>\n",
       "    .dataframe tbody tr th:only-of-type {\n",
       "        vertical-align: middle;\n",
       "    }\n",
       "\n",
       "    .dataframe tbody tr th {\n",
       "        vertical-align: top;\n",
       "    }\n",
       "\n",
       "    .dataframe thead th {\n",
       "        text-align: right;\n",
       "    }\n",
       "</style>\n",
       "<table border=\"1\" class=\"dataframe\">\n",
       "  <thead>\n",
       "    <tr style=\"text-align: right;\">\n",
       "      <th></th>\n",
       "      <th>title</th>\n",
       "      <th>authors</th>\n",
       "      <th>isbn13</th>\n",
       "      <th># num_pages</th>\n",
       "    </tr>\n",
       "  </thead>\n",
       "  <tbody>\n",
       "    <tr>\n",
       "      <th>0</th>\n",
       "      <td>Harry Potter and the Half-Blood Prince (Harry ...</td>\n",
       "      <td>J.K. Rowling-Mary GrandPré</td>\n",
       "      <td>9780439785969</td>\n",
       "      <td>652</td>\n",
       "    </tr>\n",
       "    <tr>\n",
       "      <th>1</th>\n",
       "      <td>Harry Potter and the Order of the Phoenix (Har...</td>\n",
       "      <td>J.K. Rowling-Mary GrandPré</td>\n",
       "      <td>9780439358071</td>\n",
       "      <td>870</td>\n",
       "    </tr>\n",
       "    <tr>\n",
       "      <th>2</th>\n",
       "      <td>Harry Potter and the Sorcerer's Stone (Harry P...</td>\n",
       "      <td>J.K. Rowling-Mary GrandPré</td>\n",
       "      <td>9780439554930</td>\n",
       "      <td>320</td>\n",
       "    </tr>\n",
       "  </tbody>\n",
       "</table>\n",
       "</div>"
      ],
      "text/plain": [
       "                                               title  \\\n",
       "0  Harry Potter and the Half-Blood Prince (Harry ...   \n",
       "1  Harry Potter and the Order of the Phoenix (Har...   \n",
       "2  Harry Potter and the Sorcerer's Stone (Harry P...   \n",
       "\n",
       "                      authors         isbn13  # num_pages  \n",
       "0  J.K. Rowling-Mary GrandPré  9780439785969          652  \n",
       "1  J.K. Rowling-Mary GrandPré  9780439358071          870  \n",
       "2  J.K. Rowling-Mary GrandPré  9780439554930          320  "
      ]
     },
     "execution_count": 5,
     "metadata": {},
     "output_type": "execute_result"
    }
   ],
   "source": [
    "# YOUR CODE HERE \n",
    "# Only title, authors, isbn13, #num_pages\n",
    "books_df = pd.read_csv('books.csv', usecols=['title', 'authors', 'isbn13', '# num_pages'])\n",
    "# books_df = books_df[['title', 'authors', 'isbn13', '# num_pages']]\n",
    "\n",
    "# drop a column\n",
    "# books_df = books_df.drop(columns=['title'])\n",
    "\n",
    "books_df.head(3)"
   ]
  },
  {
   "cell_type": "code",
   "execution_count": 6,
   "metadata": {},
   "outputs": [
    {
     "name": "stdout",
     "output_type": "stream",
     "text": [
      "<class 'pandas.core.frame.DataFrame'>\n",
      "RangeIndex: 13719 entries, 0 to 13718\n",
      "Data columns (total 4 columns):\n",
      " #   Column       Non-Null Count  Dtype \n",
      "---  ------       --------------  ----- \n",
      " 0   title        13719 non-null  object\n",
      " 1   authors      13719 non-null  object\n",
      " 2   isbn13       13719 non-null  int64 \n",
      " 3   # num_pages  13719 non-null  int64 \n",
      "dtypes: int64(2), object(2)\n",
      "memory usage: 428.8+ KB\n"
     ]
    }
   ],
   "source": [
    "books_df.info()"
   ]
  },
  {
   "cell_type": "markdown",
   "metadata": {},
   "source": [
    "Let's add a new column full of empty cells"
   ]
  },
  {
   "cell_type": "code",
   "execution_count": 7,
   "metadata": {
    "tags": [
     "challengify"
    ]
   },
   "outputs": [
    {
     "data": {
      "text/html": [
       "<div>\n",
       "<style scoped>\n",
       "    .dataframe tbody tr th:only-of-type {\n",
       "        vertical-align: middle;\n",
       "    }\n",
       "\n",
       "    .dataframe tbody tr th {\n",
       "        vertical-align: top;\n",
       "    }\n",
       "\n",
       "    .dataframe thead th {\n",
       "        text-align: right;\n",
       "    }\n",
       "</style>\n",
       "<table border=\"1\" class=\"dataframe\">\n",
       "  <thead>\n",
       "    <tr style=\"text-align: right;\">\n",
       "      <th></th>\n",
       "      <th>title</th>\n",
       "      <th>authors</th>\n",
       "      <th>isbn13</th>\n",
       "      <th># num_pages</th>\n",
       "      <th>cover_url</th>\n",
       "    </tr>\n",
       "  </thead>\n",
       "  <tbody>\n",
       "    <tr>\n",
       "      <th>0</th>\n",
       "      <td>Harry Potter and the Half-Blood Prince (Harry ...</td>\n",
       "      <td>J.K. Rowling-Mary GrandPré</td>\n",
       "      <td>9780439785969</td>\n",
       "      <td>652</td>\n",
       "      <td>None</td>\n",
       "    </tr>\n",
       "    <tr>\n",
       "      <th>1</th>\n",
       "      <td>Harry Potter and the Order of the Phoenix (Har...</td>\n",
       "      <td>J.K. Rowling-Mary GrandPré</td>\n",
       "      <td>9780439358071</td>\n",
       "      <td>870</td>\n",
       "      <td>None</td>\n",
       "    </tr>\n",
       "    <tr>\n",
       "      <th>2</th>\n",
       "      <td>Harry Potter and the Sorcerer's Stone (Harry P...</td>\n",
       "      <td>J.K. Rowling-Mary GrandPré</td>\n",
       "      <td>9780439554930</td>\n",
       "      <td>320</td>\n",
       "      <td>None</td>\n",
       "    </tr>\n",
       "  </tbody>\n",
       "</table>\n",
       "</div>"
      ],
      "text/plain": [
       "                                               title  \\\n",
       "0  Harry Potter and the Half-Blood Prince (Harry ...   \n",
       "1  Harry Potter and the Order of the Phoenix (Har...   \n",
       "2  Harry Potter and the Sorcerer's Stone (Harry P...   \n",
       "\n",
       "                      authors         isbn13  # num_pages cover_url  \n",
       "0  J.K. Rowling-Mary GrandPré  9780439785969          652      None  \n",
       "1  J.K. Rowling-Mary GrandPré  9780439358071          870      None  \n",
       "2  J.K. Rowling-Mary GrandPré  9780439554930          320      None  "
      ]
     },
     "execution_count": 7,
     "metadata": {},
     "output_type": "execute_result"
    }
   ],
   "source": [
    "# YOUR CODE HERE\n",
    "# for example \"cover_url\"\n",
    "# books_df['cover_url'] = np.nan\n",
    "books_df['cover_url'] = None\n",
    "\n",
    "books_df.head(3)"
   ]
  },
  {
   "cell_type": "markdown",
   "metadata": {},
   "source": [
    "## API - Open Library"
   ]
  },
  {
   "cell_type": "code",
   "execution_count": 8,
   "metadata": {
    "tags": [
     "challengify"
    ]
   },
   "outputs": [],
   "source": [
    "# YOUR CODE HERE \n",
    "# Enrich the DF with the \"cover URL\" (you can add other data, example: \"List of subjects\")\n",
    "# Optional: make it IDEMPOTENT\n",
    "isbn = 9780439785969\n",
    "def fetch_cover(isbn):\n",
    "    isbn_formatted = f\"ISBN:{isbn}\"\n",
    "    url = f\"https://openlibrary.org/api/books\"\n",
    "    try:\n",
    "        response = requests.get(\n",
    "            url,\n",
    "            params={\n",
    "                'bibkeys': isbn_formatted,\n",
    "                'format': 'json',\n",
    "                'jscmd': 'data'\n",
    "            }\n",
    "        )\n",
    "        data = response.json()\n",
    "        cover_url = data[isbn_formatted][\"cover\"][\"large\"]\n",
    "    except:\n",
    "        return None\n",
    "    return cover_url"
   ]
  },
  {
   "cell_type": "code",
   "execution_count": 9,
   "metadata": {},
   "outputs": [
    {
     "data": {
      "text/plain": [
       "'https://covers.openlibrary.org/b/id/9326654-L.jpg'"
      ]
     },
     "execution_count": 9,
     "metadata": {},
     "output_type": "execute_result"
    }
   ],
   "source": [
    "fetch_cover(isbn)"
   ]
  },
  {
   "cell_type": "code",
   "execution_count": 10,
   "metadata": {},
   "outputs": [
    {
     "name": "stdout",
     "output_type": "stream",
     "text": [
      "CPU times: user 1.32 s, sys: 86.2 ms, total: 1.41 s\n",
      "Wall time: 21.1 s\n"
     ]
    }
   ],
   "source": [
    "%%time\n",
    "for index, row in books_df.head(50).iterrows():\n",
    "    # print(row['isbn13'])\n",
    "    cover_url = fetch_cover(row['isbn13'])\n",
    "    # print(cover_url)\n",
    "    books_df.loc[index, 'cover_url'] = cover_url"
   ]
  },
  {
   "cell_type": "code",
   "execution_count": 12,
   "metadata": {},
   "outputs": [
    {
     "data": {
      "text/html": [
       "<div>\n",
       "<style scoped>\n",
       "    .dataframe tbody tr th:only-of-type {\n",
       "        vertical-align: middle;\n",
       "    }\n",
       "\n",
       "    .dataframe tbody tr th {\n",
       "        vertical-align: top;\n",
       "    }\n",
       "\n",
       "    .dataframe thead th {\n",
       "        text-align: right;\n",
       "    }\n",
       "</style>\n",
       "<table border=\"1\" class=\"dataframe\">\n",
       "  <thead>\n",
       "    <tr style=\"text-align: right;\">\n",
       "      <th></th>\n",
       "      <th>title</th>\n",
       "      <th>authors</th>\n",
       "      <th>isbn13</th>\n",
       "      <th># num_pages</th>\n",
       "      <th>cover_url</th>\n",
       "    </tr>\n",
       "  </thead>\n",
       "  <tbody>\n",
       "    <tr>\n",
       "      <th>0</th>\n",
       "      <td>Harry Potter and the Half-Blood Prince (Harry ...</td>\n",
       "      <td>J.K. Rowling-Mary GrandPré</td>\n",
       "      <td>9780439785969</td>\n",
       "      <td>652</td>\n",
       "      <td>https://covers.openlibrary.org/b/id/9326654-L.jpg</td>\n",
       "    </tr>\n",
       "    <tr>\n",
       "      <th>1</th>\n",
       "      <td>Harry Potter and the Order of the Phoenix (Har...</td>\n",
       "      <td>J.K. Rowling-Mary GrandPré</td>\n",
       "      <td>9780439358071</td>\n",
       "      <td>870</td>\n",
       "      <td>https://covers.openlibrary.org/b/id/12025650-L...</td>\n",
       "    </tr>\n",
       "    <tr>\n",
       "      <th>2</th>\n",
       "      <td>Harry Potter and the Sorcerer's Stone (Harry P...</td>\n",
       "      <td>J.K. Rowling-Mary GrandPré</td>\n",
       "      <td>9780439554930</td>\n",
       "      <td>320</td>\n",
       "      <td>https://covers.openlibrary.org/b/id/7572543-L.jpg</td>\n",
       "    </tr>\n",
       "    <tr>\n",
       "      <th>3</th>\n",
       "      <td>Harry Potter and the Chamber of Secrets (Harry...</td>\n",
       "      <td>J.K. Rowling</td>\n",
       "      <td>9780439554893</td>\n",
       "      <td>352</td>\n",
       "      <td>https://covers.openlibrary.org/b/id/10301720-L...</td>\n",
       "    </tr>\n",
       "    <tr>\n",
       "      <th>4</th>\n",
       "      <td>Harry Potter and the Prisoner of Azkaban (Harr...</td>\n",
       "      <td>J.K. Rowling-Mary GrandPré</td>\n",
       "      <td>9780439655484</td>\n",
       "      <td>435</td>\n",
       "      <td>https://covers.openlibrary.org/b/id/8778528-L.jpg</td>\n",
       "    </tr>\n",
       "    <tr>\n",
       "      <th>5</th>\n",
       "      <td>Harry Potter Boxed Set  Books 1-5 (Harry Potte...</td>\n",
       "      <td>J.K. Rowling-Mary GrandPré</td>\n",
       "      <td>9780439682589</td>\n",
       "      <td>2690</td>\n",
       "      <td>https://covers.openlibrary.org/b/id/278981-L.jpg</td>\n",
       "    </tr>\n",
       "    <tr>\n",
       "      <th>6</th>\n",
       "      <td>Unauthorized Harry Potter Book Seven News: \"Ha...</td>\n",
       "      <td>W. Frederick Zimmerman</td>\n",
       "      <td>9780976540601</td>\n",
       "      <td>152</td>\n",
       "      <td>https://covers.openlibrary.org/b/id/742235-L.jpg</td>\n",
       "    </tr>\n",
       "    <tr>\n",
       "      <th>7</th>\n",
       "      <td>Harry Potter Collection (Harry Potter  #1-6)</td>\n",
       "      <td>J.K. Rowling</td>\n",
       "      <td>9780439827607</td>\n",
       "      <td>3342</td>\n",
       "      <td>https://covers.openlibrary.org/b/id/279436-L.jpg</td>\n",
       "    </tr>\n",
       "    <tr>\n",
       "      <th>8</th>\n",
       "      <td>The Ultimate Hitchhiker's Guide: Five Complete...</td>\n",
       "      <td>Douglas Adams</td>\n",
       "      <td>9780517226957</td>\n",
       "      <td>815</td>\n",
       "      <td>https://covers.openlibrary.org/b/id/12617870-L...</td>\n",
       "    </tr>\n",
       "    <tr>\n",
       "      <th>9</th>\n",
       "      <td>The Ultimate Hitchhiker's Guide to the Galaxy</td>\n",
       "      <td>Douglas Adams</td>\n",
       "      <td>9780345453747</td>\n",
       "      <td>815</td>\n",
       "      <td>None</td>\n",
       "    </tr>\n",
       "    <tr>\n",
       "      <th>10</th>\n",
       "      <td>The Hitchhiker's Guide to the Galaxy (Hitchhik...</td>\n",
       "      <td>Douglas Adams</td>\n",
       "      <td>9781400052929</td>\n",
       "      <td>215</td>\n",
       "      <td>https://covers.openlibrary.org/b/id/10176291-L...</td>\n",
       "    </tr>\n",
       "    <tr>\n",
       "      <th>11</th>\n",
       "      <td>The Hitchhiker's Guide to the Galaxy (Hitchhik...</td>\n",
       "      <td>Douglas Adams-Stephen Fry</td>\n",
       "      <td>9780739322208</td>\n",
       "      <td>6</td>\n",
       "      <td>https://covers.openlibrary.org/b/id/8769632-L.jpg</td>\n",
       "    </tr>\n",
       "    <tr>\n",
       "      <th>12</th>\n",
       "      <td>The Ultimate Hitchhiker's Guide (Hitchhiker's ...</td>\n",
       "      <td>Douglas Adams</td>\n",
       "      <td>9780517149256</td>\n",
       "      <td>815</td>\n",
       "      <td>https://covers.openlibrary.org/b/id/7892560-L.jpg</td>\n",
       "    </tr>\n",
       "    <tr>\n",
       "      <th>13</th>\n",
       "      <td>A Short History of Nearly Everything</td>\n",
       "      <td>Bill Bryson-William Roberts</td>\n",
       "      <td>9780767908184</td>\n",
       "      <td>544</td>\n",
       "      <td>https://covers.openlibrary.org/b/id/12995805-L...</td>\n",
       "    </tr>\n",
       "    <tr>\n",
       "      <th>14</th>\n",
       "      <td>Bill Bryson's African Diary</td>\n",
       "      <td>Bill Bryson</td>\n",
       "      <td>9780767915069</td>\n",
       "      <td>55</td>\n",
       "      <td>https://covers.openlibrary.org/b/id/6815851-L.jpg</td>\n",
       "    </tr>\n",
       "    <tr>\n",
       "      <th>15</th>\n",
       "      <td>Bryson's Dictionary of Troublesome Words: A Wr...</td>\n",
       "      <td>Bill Bryson</td>\n",
       "      <td>9780767910439</td>\n",
       "      <td>256</td>\n",
       "      <td>https://covers.openlibrary.org/b/id/6513848-L.jpg</td>\n",
       "    </tr>\n",
       "    <tr>\n",
       "      <th>16</th>\n",
       "      <td>In a Sunburned Country</td>\n",
       "      <td>Bill Bryson</td>\n",
       "      <td>9780767903868</td>\n",
       "      <td>335</td>\n",
       "      <td>https://covers.openlibrary.org/b/id/12722656-L...</td>\n",
       "    </tr>\n",
       "    <tr>\n",
       "      <th>17</th>\n",
       "      <td>I'm a Stranger Here Myself: Notes on Returning...</td>\n",
       "      <td>Bill Bryson</td>\n",
       "      <td>9780767903820</td>\n",
       "      <td>304</td>\n",
       "      <td>https://covers.openlibrary.org/b/id/12722647-L...</td>\n",
       "    </tr>\n",
       "    <tr>\n",
       "      <th>18</th>\n",
       "      <td>The Lost Continent: Travels in Small Town America</td>\n",
       "      <td>Bill Bryson</td>\n",
       "      <td>9780060920081</td>\n",
       "      <td>299</td>\n",
       "      <td>https://covers.openlibrary.org/b/id/12722717-L...</td>\n",
       "    </tr>\n",
       "    <tr>\n",
       "      <th>19</th>\n",
       "      <td>Neither Here nor There: Travels in Europe</td>\n",
       "      <td>Bill Bryson</td>\n",
       "      <td>9780380713806</td>\n",
       "      <td>254</td>\n",
       "      <td>https://covers.openlibrary.org/b/id/6543636-L.jpg</td>\n",
       "    </tr>\n",
       "  </tbody>\n",
       "</table>\n",
       "</div>"
      ],
      "text/plain": [
       "                                                title  \\\n",
       "0   Harry Potter and the Half-Blood Prince (Harry ...   \n",
       "1   Harry Potter and the Order of the Phoenix (Har...   \n",
       "2   Harry Potter and the Sorcerer's Stone (Harry P...   \n",
       "3   Harry Potter and the Chamber of Secrets (Harry...   \n",
       "4   Harry Potter and the Prisoner of Azkaban (Harr...   \n",
       "5   Harry Potter Boxed Set  Books 1-5 (Harry Potte...   \n",
       "6   Unauthorized Harry Potter Book Seven News: \"Ha...   \n",
       "7        Harry Potter Collection (Harry Potter  #1-6)   \n",
       "8   The Ultimate Hitchhiker's Guide: Five Complete...   \n",
       "9       The Ultimate Hitchhiker's Guide to the Galaxy   \n",
       "10  The Hitchhiker's Guide to the Galaxy (Hitchhik...   \n",
       "11  The Hitchhiker's Guide to the Galaxy (Hitchhik...   \n",
       "12  The Ultimate Hitchhiker's Guide (Hitchhiker's ...   \n",
       "13               A Short History of Nearly Everything   \n",
       "14                        Bill Bryson's African Diary   \n",
       "15  Bryson's Dictionary of Troublesome Words: A Wr...   \n",
       "16                             In a Sunburned Country   \n",
       "17  I'm a Stranger Here Myself: Notes on Returning...   \n",
       "18  The Lost Continent: Travels in Small Town America   \n",
       "19          Neither Here nor There: Travels in Europe   \n",
       "\n",
       "                        authors         isbn13  # num_pages  \\\n",
       "0    J.K. Rowling-Mary GrandPré  9780439785969          652   \n",
       "1    J.K. Rowling-Mary GrandPré  9780439358071          870   \n",
       "2    J.K. Rowling-Mary GrandPré  9780439554930          320   \n",
       "3                  J.K. Rowling  9780439554893          352   \n",
       "4    J.K. Rowling-Mary GrandPré  9780439655484          435   \n",
       "5    J.K. Rowling-Mary GrandPré  9780439682589         2690   \n",
       "6        W. Frederick Zimmerman  9780976540601          152   \n",
       "7                  J.K. Rowling  9780439827607         3342   \n",
       "8                 Douglas Adams  9780517226957          815   \n",
       "9                 Douglas Adams  9780345453747          815   \n",
       "10                Douglas Adams  9781400052929          215   \n",
       "11    Douglas Adams-Stephen Fry  9780739322208            6   \n",
       "12                Douglas Adams  9780517149256          815   \n",
       "13  Bill Bryson-William Roberts  9780767908184          544   \n",
       "14                  Bill Bryson  9780767915069           55   \n",
       "15                  Bill Bryson  9780767910439          256   \n",
       "16                  Bill Bryson  9780767903868          335   \n",
       "17                  Bill Bryson  9780767903820          304   \n",
       "18                  Bill Bryson  9780060920081          299   \n",
       "19                  Bill Bryson  9780380713806          254   \n",
       "\n",
       "                                            cover_url  \n",
       "0   https://covers.openlibrary.org/b/id/9326654-L.jpg  \n",
       "1   https://covers.openlibrary.org/b/id/12025650-L...  \n",
       "2   https://covers.openlibrary.org/b/id/7572543-L.jpg  \n",
       "3   https://covers.openlibrary.org/b/id/10301720-L...  \n",
       "4   https://covers.openlibrary.org/b/id/8778528-L.jpg  \n",
       "5    https://covers.openlibrary.org/b/id/278981-L.jpg  \n",
       "6    https://covers.openlibrary.org/b/id/742235-L.jpg  \n",
       "7    https://covers.openlibrary.org/b/id/279436-L.jpg  \n",
       "8   https://covers.openlibrary.org/b/id/12617870-L...  \n",
       "9                                                None  \n",
       "10  https://covers.openlibrary.org/b/id/10176291-L...  \n",
       "11  https://covers.openlibrary.org/b/id/8769632-L.jpg  \n",
       "12  https://covers.openlibrary.org/b/id/7892560-L.jpg  \n",
       "13  https://covers.openlibrary.org/b/id/12995805-L...  \n",
       "14  https://covers.openlibrary.org/b/id/6815851-L.jpg  \n",
       "15  https://covers.openlibrary.org/b/id/6513848-L.jpg  \n",
       "16  https://covers.openlibrary.org/b/id/12722656-L...  \n",
       "17  https://covers.openlibrary.org/b/id/12722647-L...  \n",
       "18  https://covers.openlibrary.org/b/id/12722717-L...  \n",
       "19  https://covers.openlibrary.org/b/id/6543636-L.jpg  "
      ]
     },
     "execution_count": 12,
     "metadata": {},
     "output_type": "execute_result"
    }
   ],
   "source": [
    "books_df.head(20)"
   ]
  },
  {
   "cell_type": "markdown",
   "metadata": {
    "tags": []
   },
   "source": [
    "## Calling the API with multiple ISBNs at a time"
   ]
  },
  {
   "cell_type": "code",
   "execution_count": 1,
   "metadata": {
    "tags": [
     "challengify"
    ]
   },
   "outputs": [],
   "source": [
    "# YOUR CODE HERE \n",
    "# Hint: https://openlibrary.org/api/books?bibkeys=ISBN:9780980200447,ISBN:9780140328721&jscmd=details&format=json\n",
    "isbns = [9780439785969, 9780439358071, 9780439554930]"
   ]
  },
  {
   "cell_type": "code",
   "execution_count": null,
   "metadata": {},
   "outputs": [],
   "source": []
  },
  {
   "cell_type": "code",
   "execution_count": null,
   "metadata": {},
   "outputs": [],
   "source": []
  },
  {
   "cell_type": "markdown",
   "metadata": {},
   "source": [
    "## CORRECTION: Calling the API with multiple ISBNs at a time"
   ]
  },
  {
   "cell_type": "code",
   "execution_count": 15,
   "metadata": {},
   "outputs": [
    {
     "data": {
      "text/plain": [
       "['ISBN:9780439785969', 'ISBN:9780439358071', 'ISBN:9780439554930']"
      ]
     },
     "execution_count": 15,
     "metadata": {},
     "output_type": "execute_result"
    }
   ],
   "source": [
    "isbns = [9780439785969, 9780439358071, 9780439554930] \n",
    "[f\"ISBN:{isbn}\" for isbn in isbns]"
   ]
  },
  {
   "cell_type": "code",
   "execution_count": 16,
   "metadata": {},
   "outputs": [
    {
     "data": {
      "text/plain": [
       "'ISBN:9780439785969,ISBN:9780439358071,ISBN:9780439554930'"
      ]
     },
     "execution_count": 16,
     "metadata": {},
     "output_type": "execute_result"
    }
   ],
   "source": [
    "\",\".join([f\"ISBN:{isbn}\" for isbn in isbns])"
   ]
  },
  {
   "cell_type": "code",
   "execution_count": 18,
   "metadata": {},
   "outputs": [],
   "source": [
    "def fetch_books(isbns):\n",
    "    # Define the URL and build bibkeys from ISBN\n",
    "    url = \"https://openlibrary.org/api/books\"\n",
    "    bibkeys = \",\".join([f\"ISBN:{isbn}\" for isbn in isbns])\n",
    "    # Define parameters for HTTP request\n",
    "    params = {\n",
    "        'bibkeys': bibkeys, 'format': 'json', 'jscmd': 'data'\n",
    "    }\n",
    "     # Perform request\n",
    "    response = requests.get(url, params=params).json() \n",
    "    return response"
   ]
  },
  {
   "cell_type": "code",
   "execution_count": 19,
   "metadata": {},
   "outputs": [],
   "source": [
    "books_df.set_index(\"isbn13\", inplace=True)"
   ]
  },
  {
   "cell_type": "code",
   "execution_count": 20,
   "metadata": {},
   "outputs": [
    {
     "data": {
      "text/html": [
       "<div>\n",
       "<style scoped>\n",
       "    .dataframe tbody tr th:only-of-type {\n",
       "        vertical-align: middle;\n",
       "    }\n",
       "\n",
       "    .dataframe tbody tr th {\n",
       "        vertical-align: top;\n",
       "    }\n",
       "\n",
       "    .dataframe thead th {\n",
       "        text-align: right;\n",
       "    }\n",
       "</style>\n",
       "<table border=\"1\" class=\"dataframe\">\n",
       "  <thead>\n",
       "    <tr style=\"text-align: right;\">\n",
       "      <th></th>\n",
       "      <th>title</th>\n",
       "      <th>authors</th>\n",
       "      <th># num_pages</th>\n",
       "      <th>cover_url</th>\n",
       "    </tr>\n",
       "    <tr>\n",
       "      <th>isbn13</th>\n",
       "      <th></th>\n",
       "      <th></th>\n",
       "      <th></th>\n",
       "      <th></th>\n",
       "    </tr>\n",
       "  </thead>\n",
       "  <tbody>\n",
       "    <tr>\n",
       "      <th>9780439785969</th>\n",
       "      <td>Harry Potter and the Half-Blood Prince (Harry ...</td>\n",
       "      <td>J.K. Rowling-Mary GrandPré</td>\n",
       "      <td>652</td>\n",
       "      <td>https://covers.openlibrary.org/b/id/9326654-L.jpg</td>\n",
       "    </tr>\n",
       "    <tr>\n",
       "      <th>9780439358071</th>\n",
       "      <td>Harry Potter and the Order of the Phoenix (Har...</td>\n",
       "      <td>J.K. Rowling-Mary GrandPré</td>\n",
       "      <td>870</td>\n",
       "      <td>https://covers.openlibrary.org/b/id/12025650-L...</td>\n",
       "    </tr>\n",
       "    <tr>\n",
       "      <th>9780439554930</th>\n",
       "      <td>Harry Potter and the Sorcerer's Stone (Harry P...</td>\n",
       "      <td>J.K. Rowling-Mary GrandPré</td>\n",
       "      <td>320</td>\n",
       "      <td>https://covers.openlibrary.org/b/id/7572543-L.jpg</td>\n",
       "    </tr>\n",
       "    <tr>\n",
       "      <th>9780439554893</th>\n",
       "      <td>Harry Potter and the Chamber of Secrets (Harry...</td>\n",
       "      <td>J.K. Rowling</td>\n",
       "      <td>352</td>\n",
       "      <td>https://covers.openlibrary.org/b/id/10301720-L...</td>\n",
       "    </tr>\n",
       "    <tr>\n",
       "      <th>9780439655484</th>\n",
       "      <td>Harry Potter and the Prisoner of Azkaban (Harr...</td>\n",
       "      <td>J.K. Rowling-Mary GrandPré</td>\n",
       "      <td>435</td>\n",
       "      <td>https://covers.openlibrary.org/b/id/8778528-L.jpg</td>\n",
       "    </tr>\n",
       "  </tbody>\n",
       "</table>\n",
       "</div>"
      ],
      "text/plain": [
       "                                                           title  \\\n",
       "isbn13                                                             \n",
       "9780439785969  Harry Potter and the Half-Blood Prince (Harry ...   \n",
       "9780439358071  Harry Potter and the Order of the Phoenix (Har...   \n",
       "9780439554930  Harry Potter and the Sorcerer's Stone (Harry P...   \n",
       "9780439554893  Harry Potter and the Chamber of Secrets (Harry...   \n",
       "9780439655484  Harry Potter and the Prisoner of Azkaban (Harr...   \n",
       "\n",
       "                                  authors  # num_pages  \\\n",
       "isbn13                                                   \n",
       "9780439785969  J.K. Rowling-Mary GrandPré          652   \n",
       "9780439358071  J.K. Rowling-Mary GrandPré          870   \n",
       "9780439554930  J.K. Rowling-Mary GrandPré          320   \n",
       "9780439554893                J.K. Rowling          352   \n",
       "9780439655484  J.K. Rowling-Mary GrandPré          435   \n",
       "\n",
       "                                                       cover_url  \n",
       "isbn13                                                            \n",
       "9780439785969  https://covers.openlibrary.org/b/id/9326654-L.jpg  \n",
       "9780439358071  https://covers.openlibrary.org/b/id/12025650-L...  \n",
       "9780439554930  https://covers.openlibrary.org/b/id/7572543-L.jpg  \n",
       "9780439554893  https://covers.openlibrary.org/b/id/10301720-L...  \n",
       "9780439655484  https://covers.openlibrary.org/b/id/8778528-L.jpg  "
      ]
     },
     "execution_count": 20,
     "metadata": {},
     "output_type": "execute_result"
    }
   ],
   "source": [
    "books_df.head()"
   ]
  },
  {
   "cell_type": "code",
   "execution_count": null,
   "metadata": {},
   "outputs": [],
   "source": []
  }
 ],
 "metadata": {
  "kernelspec": {
   "display_name": "Python 3 (ipykernel)",
   "language": "python",
   "name": "python3"
  },
  "language_info": {
   "codemirror_mode": {
    "name": "ipython",
    "version": 3
   },
   "file_extension": ".py",
   "mimetype": "text/x-python",
   "name": "python",
   "nbconvert_exporter": "python",
   "pygments_lexer": "ipython3",
   "version": "3.8.12"
  },
  "toc": {
   "base_numbering": 1,
   "nav_menu": {},
   "number_sections": true,
   "sideBar": true,
   "skip_h1_title": false,
   "title_cell": "Table of Contents",
   "title_sidebar": "Contents",
   "toc_cell": false,
   "toc_position": {},
   "toc_section_display": true,
   "toc_window_display": false
  }
 },
 "nbformat": 4,
 "nbformat_minor": 4
}
