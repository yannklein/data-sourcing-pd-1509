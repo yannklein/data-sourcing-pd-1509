{
 "cells": [
  {
   "cell_type": "markdown",
   "metadata": {},
   "source": [
    "# CSV + API\n",
    "\n",
    "In this reboot, we are going to use:\n",
    "\n",
    "- The [Goodreads books](https://www.kaggle.com/jealousleopard/goodreadsbooks) dataset from Kaggle.\n",
    "- The [Open Library Books API](https://openlibrary.org/dev/docs/api/books)\n",
    "\n",
    "The goal of this livecode is to load the data from a CSV + loop over rows to enrich each row with information such as:\n",
    "\n",
    "- List of subjects (Science, Humor, Travel, etc.)\n",
    "- The cover URL of the book\n",
    "- Other information you'd find useful in the JSON API"
   ]
  },
  {
   "cell_type": "markdown",
   "metadata": {},
   "source": [
    "First, download the CSV in the local folder:"
   ]
  },
  {
   "cell_type": "code",
   "execution_count": 1,
   "metadata": {},
   "outputs": [
    {
     "name": "stdout",
     "output_type": "stream",
     "text": [
      "  % Total    % Received % Xferd  Average Speed   Time    Time     Time  Current\n",
      "                                 Dload  Upload   Total   Spent    Left  Speed\n",
      "100 1509k  100 1509k    0     0  16.4M      0 --:--:-- --:--:-- --:--:-- 17.1M\n"
     ]
    }
   ],
   "source": [
    "!curl -L https://gist.githubusercontent.com/ssaunier/351b17f5a7a009808b60aeacd1f4a036/raw/books.csv > books.csv"
   ]
  },
  {
   "cell_type": "code",
   "execution_count": 2,
   "metadata": {},
   "outputs": [
    {
     "name": "stdout",
     "output_type": "stream",
     "text": [
      "total 4272\n",
      "-rw-r--r--  1 kleinyann  staff   579B Jan 10 00:52 README.md\n",
      "-rw-r--r--@ 1 kleinyann  staff    17K Jan 16 18:03 Recap.ipynb\n",
      "-rw-r--r--@ 1 kleinyann  staff   1.5M Jan 16 18:03 books.csv\n"
     ]
    }
   ],
   "source": [
    "!ls -lh"
   ]
  },
  {
   "cell_type": "markdown",
   "metadata": {},
   "source": [
    "Then import the usual suspects!"
   ]
  },
  {
   "cell_type": "code",
   "execution_count": 3,
   "metadata": {},
   "outputs": [],
   "source": [
    "import requests\n",
    "import pandas as pd\n",
    "import numpy as np"
   ]
  },
  {
   "cell_type": "markdown",
   "metadata": {},
   "source": [
    "## Load books from CSV"
   ]
  },
  {
   "cell_type": "code",
   "execution_count": 23,
   "metadata": {
    "tags": [
     "challengify"
    ]
   },
   "outputs": [
    {
     "data": {
      "text/html": [
       "<div>\n",
       "<style scoped>\n",
       "    .dataframe tbody tr th:only-of-type {\n",
       "        vertical-align: middle;\n",
       "    }\n",
       "\n",
       "    .dataframe tbody tr th {\n",
       "        vertical-align: top;\n",
       "    }\n",
       "\n",
       "    .dataframe thead th {\n",
       "        text-align: right;\n",
       "    }\n",
       "</style>\n",
       "<table border=\"1\" class=\"dataframe\">\n",
       "  <thead>\n",
       "    <tr style=\"text-align: right;\">\n",
       "      <th></th>\n",
       "      <th>bookID</th>\n",
       "      <th>title</th>\n",
       "      <th>authors</th>\n",
       "      <th>average_rating</th>\n",
       "      <th>isbn</th>\n",
       "      <th>isbn13</th>\n",
       "      <th>language_code</th>\n",
       "      <th># num_pages</th>\n",
       "      <th>ratings_count</th>\n",
       "      <th>text_reviews_count</th>\n",
       "    </tr>\n",
       "  </thead>\n",
       "  <tbody>\n",
       "    <tr>\n",
       "      <th>0</th>\n",
       "      <td>1</td>\n",
       "      <td>Harry Potter and the Half-Blood Prince (Harry ...</td>\n",
       "      <td>J.K. Rowling-Mary GrandPré</td>\n",
       "      <td>4.56</td>\n",
       "      <td>0439785960</td>\n",
       "      <td>9780439785969</td>\n",
       "      <td>eng</td>\n",
       "      <td>652</td>\n",
       "      <td>1944099</td>\n",
       "      <td>26249</td>\n",
       "    </tr>\n",
       "    <tr>\n",
       "      <th>1</th>\n",
       "      <td>2</td>\n",
       "      <td>Harry Potter and the Order of the Phoenix (Har...</td>\n",
       "      <td>J.K. Rowling-Mary GrandPré</td>\n",
       "      <td>4.49</td>\n",
       "      <td>0439358078</td>\n",
       "      <td>9780439358071</td>\n",
       "      <td>eng</td>\n",
       "      <td>870</td>\n",
       "      <td>1996446</td>\n",
       "      <td>27613</td>\n",
       "    </tr>\n",
       "    <tr>\n",
       "      <th>2</th>\n",
       "      <td>3</td>\n",
       "      <td>Harry Potter and the Sorcerer's Stone (Harry P...</td>\n",
       "      <td>J.K. Rowling-Mary GrandPré</td>\n",
       "      <td>4.47</td>\n",
       "      <td>0439554934</td>\n",
       "      <td>9780439554930</td>\n",
       "      <td>eng</td>\n",
       "      <td>320</td>\n",
       "      <td>5629932</td>\n",
       "      <td>70390</td>\n",
       "    </tr>\n",
       "  </tbody>\n",
       "</table>\n",
       "</div>"
      ],
      "text/plain": [
       "   bookID                                              title  \\\n",
       "0       1  Harry Potter and the Half-Blood Prince (Harry ...   \n",
       "1       2  Harry Potter and the Order of the Phoenix (Har...   \n",
       "2       3  Harry Potter and the Sorcerer's Stone (Harry P...   \n",
       "\n",
       "                      authors  average_rating        isbn         isbn13  \\\n",
       "0  J.K. Rowling-Mary GrandPré            4.56  0439785960  9780439785969   \n",
       "1  J.K. Rowling-Mary GrandPré            4.49  0439358078  9780439358071   \n",
       "2  J.K. Rowling-Mary GrandPré            4.47  0439554934  9780439554930   \n",
       "\n",
       "  language_code  # num_pages  ratings_count  text_reviews_count  \n",
       "0           eng          652        1944099               26249  \n",
       "1           eng          870        1996446               27613  \n",
       "2           eng          320        5629932               70390  "
      ]
     },
     "execution_count": 23,
     "metadata": {},
     "output_type": "execute_result"
    }
   ],
   "source": [
    "books_df = pd.read_csv('books.csv')\n",
    "# books_df = pd.read_csv('books.csv', usecols=['title', 'authors', 'isbn13', '# num_pages'])\n",
    "books_df.head(3)"
   ]
  },
  {
   "cell_type": "markdown",
   "metadata": {},
   "source": [
    "Let's keep only the columns title, authors, insb13, #num_pages"
   ]
  },
  {
   "cell_type": "code",
   "execution_count": 24,
   "metadata": {},
   "outputs": [
    {
     "data": {
      "text/html": [
       "<div>\n",
       "<style scoped>\n",
       "    .dataframe tbody tr th:only-of-type {\n",
       "        vertical-align: middle;\n",
       "    }\n",
       "\n",
       "    .dataframe tbody tr th {\n",
       "        vertical-align: top;\n",
       "    }\n",
       "\n",
       "    .dataframe thead th {\n",
       "        text-align: right;\n",
       "    }\n",
       "</style>\n",
       "<table border=\"1\" class=\"dataframe\">\n",
       "  <thead>\n",
       "    <tr style=\"text-align: right;\">\n",
       "      <th></th>\n",
       "      <th>title</th>\n",
       "      <th>authors</th>\n",
       "      <th>isbn13</th>\n",
       "      <th># num_pages</th>\n",
       "    </tr>\n",
       "  </thead>\n",
       "  <tbody>\n",
       "    <tr>\n",
       "      <th>0</th>\n",
       "      <td>Harry Potter and the Half-Blood Prince (Harry ...</td>\n",
       "      <td>J.K. Rowling-Mary GrandPré</td>\n",
       "      <td>9780439785969</td>\n",
       "      <td>652</td>\n",
       "    </tr>\n",
       "    <tr>\n",
       "      <th>1</th>\n",
       "      <td>Harry Potter and the Order of the Phoenix (Har...</td>\n",
       "      <td>J.K. Rowling-Mary GrandPré</td>\n",
       "      <td>9780439358071</td>\n",
       "      <td>870</td>\n",
       "    </tr>\n",
       "    <tr>\n",
       "      <th>2</th>\n",
       "      <td>Harry Potter and the Sorcerer's Stone (Harry P...</td>\n",
       "      <td>J.K. Rowling-Mary GrandPré</td>\n",
       "      <td>9780439554930</td>\n",
       "      <td>320</td>\n",
       "    </tr>\n",
       "  </tbody>\n",
       "</table>\n",
       "</div>"
      ],
      "text/plain": [
       "                                               title  \\\n",
       "0  Harry Potter and the Half-Blood Prince (Harry ...   \n",
       "1  Harry Potter and the Order of the Phoenix (Har...   \n",
       "2  Harry Potter and the Sorcerer's Stone (Harry P...   \n",
       "\n",
       "                      authors         isbn13  # num_pages  \n",
       "0  J.K. Rowling-Mary GrandPré  9780439785969          652  \n",
       "1  J.K. Rowling-Mary GrandPré  9780439358071          870  \n",
       "2  J.K. Rowling-Mary GrandPré  9780439554930          320  "
      ]
     },
     "execution_count": 24,
     "metadata": {},
     "output_type": "execute_result"
    }
   ],
   "source": [
    "books_df = books_df[['title','authors','isbn13','# num_pages']]\n",
    "# books_df = books_df.loc[:,[\"title\", \"authors\", \"isbn13\", \"# num_pages\"]]\n",
    "# books_df = books_df.drop([\"bookID\", \"isbn\", \"average_rating\", \"language_code\", \"text_reviews_count\"])\n",
    "# TO BE CHECKED ~books_df[\"bookID\", \"isbn\", \"average_rating\", \"language_code\", \"text_reviews_count\"]\n",
    "books_df.head(3)"
   ]
  },
  {
   "cell_type": "markdown",
   "metadata": {},
   "source": [
    "Let's add a new column \"cover_url\" (with None values in it)"
   ]
  },
  {
   "cell_type": "code",
   "execution_count": 25,
   "metadata": {
    "tags": [
     "challengify"
    ]
   },
   "outputs": [
    {
     "data": {
      "text/html": [
       "<div>\n",
       "<style scoped>\n",
       "    .dataframe tbody tr th:only-of-type {\n",
       "        vertical-align: middle;\n",
       "    }\n",
       "\n",
       "    .dataframe tbody tr th {\n",
       "        vertical-align: top;\n",
       "    }\n",
       "\n",
       "    .dataframe thead th {\n",
       "        text-align: right;\n",
       "    }\n",
       "</style>\n",
       "<table border=\"1\" class=\"dataframe\">\n",
       "  <thead>\n",
       "    <tr style=\"text-align: right;\">\n",
       "      <th></th>\n",
       "      <th>title</th>\n",
       "      <th>authors</th>\n",
       "      <th>isbn13</th>\n",
       "      <th># num_pages</th>\n",
       "      <th>cover_url</th>\n",
       "    </tr>\n",
       "  </thead>\n",
       "  <tbody>\n",
       "    <tr>\n",
       "      <th>0</th>\n",
       "      <td>Harry Potter and the Half-Blood Prince (Harry ...</td>\n",
       "      <td>J.K. Rowling-Mary GrandPré</td>\n",
       "      <td>9780439785969</td>\n",
       "      <td>652</td>\n",
       "      <td>None</td>\n",
       "    </tr>\n",
       "    <tr>\n",
       "      <th>1</th>\n",
       "      <td>Harry Potter and the Order of the Phoenix (Har...</td>\n",
       "      <td>J.K. Rowling-Mary GrandPré</td>\n",
       "      <td>9780439358071</td>\n",
       "      <td>870</td>\n",
       "      <td>None</td>\n",
       "    </tr>\n",
       "    <tr>\n",
       "      <th>2</th>\n",
       "      <td>Harry Potter and the Sorcerer's Stone (Harry P...</td>\n",
       "      <td>J.K. Rowling-Mary GrandPré</td>\n",
       "      <td>9780439554930</td>\n",
       "      <td>320</td>\n",
       "      <td>None</td>\n",
       "    </tr>\n",
       "  </tbody>\n",
       "</table>\n",
       "</div>"
      ],
      "text/plain": [
       "                                               title  \\\n",
       "0  Harry Potter and the Half-Blood Prince (Harry ...   \n",
       "1  Harry Potter and the Order of the Phoenix (Har...   \n",
       "2  Harry Potter and the Sorcerer's Stone (Harry P...   \n",
       "\n",
       "                      authors         isbn13  # num_pages cover_url  \n",
       "0  J.K. Rowling-Mary GrandPré  9780439785969          652      None  \n",
       "1  J.K. Rowling-Mary GrandPré  9780439358071          870      None  \n",
       "2  J.K. Rowling-Mary GrandPré  9780439554930          320      None  "
      ]
     },
     "execution_count": 25,
     "metadata": {},
     "output_type": "execute_result"
    }
   ],
   "source": [
    "books_df.loc[:,'cover_url'] = None\n",
    "# books_df['cover_url'] = None\n",
    "books_df.head(3)"
   ]
  },
  {
   "cell_type": "markdown",
   "metadata": {},
   "source": [
    "## API - Open Library"
   ]
  },
  {
   "cell_type": "markdown",
   "metadata": {},
   "source": [
    "Create a function that returns a book info for a certain ISBN number (https://openlibrary.org/dev/docs/api/books)"
   ]
  },
  {
   "cell_type": "code",
   "execution_count": 26,
   "metadata": {
    "tags": [
     "challengify"
    ]
   },
   "outputs": [],
   "source": [
    "import requests"
   ]
  },
  {
   "cell_type": "markdown",
   "metadata": {},
   "source": [
    "Test is with '0-7475-3269-9'"
   ]
  },
  {
   "cell_type": "code",
   "execution_count": 27,
   "metadata": {},
   "outputs": [],
   "source": [
    "# YOUR CODE HERE\n",
    "isbn = '0-7475-3269-9'"
   ]
  },
  {
   "cell_type": "code",
   "execution_count": 28,
   "metadata": {},
   "outputs": [],
   "source": [
    "# url = f'https://openlibrary.org/api/books?bibkeys=ISBN:{isbn}&jscmd=data&format=json'\n",
    "# response = requests.get(url).json()\n",
    "# response[\"ISBN:0-7475-3269-9\"][\"cover\"][\"medium\"]"
   ]
  },
  {
   "cell_type": "markdown",
   "metadata": {},
   "source": [
    "Fetch and add the cover URL (and/or other infos) to our original book dataframe"
   ]
  },
  {
   "cell_type": "code",
   "execution_count": 29,
   "metadata": {},
   "outputs": [],
   "source": [
    "def fetch_books(isbn):\n",
    "    try:\n",
    "        url = f'https://openlibrary.org/api/books'\n",
    "        response = requests.get(url, params={\n",
    "            'bibkeys': f\"ISBN:{isbn}\",\n",
    "            'jscmd': 'data',\n",
    "            'format': 'json'\n",
    "        }).json()\n",
    "        book_data = response[f\"ISBN:{isbn}\"][\"cover\"][\"medium\"]\n",
    "        return book_data\n",
    "    except:\n",
    "        return \"\""
   ]
  },
  {
   "cell_type": "code",
   "execution_count": 30,
   "metadata": {},
   "outputs": [
    {
     "data": {
      "text/plain": [
       "'https://covers.openlibrary.org/b/id/7355968-M.jpg'"
      ]
     },
     "execution_count": 30,
     "metadata": {},
     "output_type": "execute_result"
    }
   ],
   "source": [
    "fetch_books(\"0-7475-3269-9\")\n"
   ]
  },
  {
   "cell_type": "code",
   "execution_count": 31,
   "metadata": {},
   "outputs": [
    {
     "name": "stdout",
     "output_type": "stream",
     "text": [
      "<class 'pandas.core.frame.DataFrame'>\n",
      "RangeIndex: 13719 entries, 0 to 13718\n",
      "Data columns (total 5 columns):\n",
      " #   Column       Non-Null Count  Dtype \n",
      "---  ------       --------------  ----- \n",
      " 0   title        13719 non-null  object\n",
      " 1   authors      13719 non-null  object\n",
      " 2   isbn13       13719 non-null  int64 \n",
      " 3   # num_pages  13719 non-null  int64 \n",
      " 4   cover_url    0 non-null      object\n",
      "dtypes: int64(2), object(3)\n",
      "memory usage: 536.0+ KB\n"
     ]
    }
   ],
   "source": [
    "books_df.info()"
   ]
  },
  {
   "cell_type": "code",
   "execution_count": 32,
   "metadata": {},
   "outputs": [],
   "source": [
    "# for index, row in books_df.head(10).iterrows():\n",
    "#     url_data = fetch_books(row[\"isbn13\"])\n",
    "#     books_df.loc[index,[\"cover_url\"]] = url_data\n",
    "#     print(url_data)\n",
    "\n",
    "books_df.loc[:10, \"cover_url\"] = books_df.loc[:10,\"isbn13\"].apply(fetch_books)"
   ]
  },
  {
   "cell_type": "code",
   "execution_count": 33,
   "metadata": {},
   "outputs": [
    {
     "data": {
      "text/html": [
       "<div>\n",
       "<style scoped>\n",
       "    .dataframe tbody tr th:only-of-type {\n",
       "        vertical-align: middle;\n",
       "    }\n",
       "\n",
       "    .dataframe tbody tr th {\n",
       "        vertical-align: top;\n",
       "    }\n",
       "\n",
       "    .dataframe thead th {\n",
       "        text-align: right;\n",
       "    }\n",
       "</style>\n",
       "<table border=\"1\" class=\"dataframe\">\n",
       "  <thead>\n",
       "    <tr style=\"text-align: right;\">\n",
       "      <th></th>\n",
       "      <th>title</th>\n",
       "      <th>authors</th>\n",
       "      <th>isbn13</th>\n",
       "      <th># num_pages</th>\n",
       "      <th>cover_url</th>\n",
       "    </tr>\n",
       "  </thead>\n",
       "  <tbody>\n",
       "    <tr>\n",
       "      <th>0</th>\n",
       "      <td>Harry Potter and the Half-Blood Prince (Harry ...</td>\n",
       "      <td>J.K. Rowling-Mary GrandPré</td>\n",
       "      <td>9780439785969</td>\n",
       "      <td>652</td>\n",
       "      <td>https://covers.openlibrary.org/b/id/9326654-M.jpg</td>\n",
       "    </tr>\n",
       "    <tr>\n",
       "      <th>1</th>\n",
       "      <td>Harry Potter and the Order of the Phoenix (Har...</td>\n",
       "      <td>J.K. Rowling-Mary GrandPré</td>\n",
       "      <td>9780439358071</td>\n",
       "      <td>870</td>\n",
       "      <td>https://covers.openlibrary.org/b/id/12025650-M...</td>\n",
       "    </tr>\n",
       "    <tr>\n",
       "      <th>2</th>\n",
       "      <td>Harry Potter and the Sorcerer's Stone (Harry P...</td>\n",
       "      <td>J.K. Rowling-Mary GrandPré</td>\n",
       "      <td>9780439554930</td>\n",
       "      <td>320</td>\n",
       "      <td>https://covers.openlibrary.org/b/id/7572543-M.jpg</td>\n",
       "    </tr>\n",
       "    <tr>\n",
       "      <th>3</th>\n",
       "      <td>Harry Potter and the Chamber of Secrets (Harry...</td>\n",
       "      <td>J.K. Rowling</td>\n",
       "      <td>9780439554893</td>\n",
       "      <td>352</td>\n",
       "      <td>https://covers.openlibrary.org/b/id/10301720-M...</td>\n",
       "    </tr>\n",
       "    <tr>\n",
       "      <th>4</th>\n",
       "      <td>Harry Potter and the Prisoner of Azkaban (Harr...</td>\n",
       "      <td>J.K. Rowling-Mary GrandPré</td>\n",
       "      <td>9780439655484</td>\n",
       "      <td>435</td>\n",
       "      <td>https://covers.openlibrary.org/b/id/8778528-M.jpg</td>\n",
       "    </tr>\n",
       "    <tr>\n",
       "      <th>...</th>\n",
       "      <td>...</td>\n",
       "      <td>...</td>\n",
       "      <td>...</td>\n",
       "      <td>...</td>\n",
       "      <td>...</td>\n",
       "    </tr>\n",
       "    <tr>\n",
       "      <th>13714</th>\n",
       "      <td>M Is for Magic</td>\n",
       "      <td>Neil Gaiman-Teddy Kristiansen</td>\n",
       "      <td>9780061186424</td>\n",
       "      <td>260</td>\n",
       "      <td>None</td>\n",
       "    </tr>\n",
       "    <tr>\n",
       "      <th>13715</th>\n",
       "      <td>Black Orchid</td>\n",
       "      <td>Neil Gaiman-Dave McKean</td>\n",
       "      <td>9780930289553</td>\n",
       "      <td>160</td>\n",
       "      <td>None</td>\n",
       "    </tr>\n",
       "    <tr>\n",
       "      <th>13716</th>\n",
       "      <td>InterWorld (InterWorld  #1)</td>\n",
       "      <td>Neil Gaiman-Michael Reaves</td>\n",
       "      <td>9780061238963</td>\n",
       "      <td>239</td>\n",
       "      <td>None</td>\n",
       "    </tr>\n",
       "    <tr>\n",
       "      <th>13717</th>\n",
       "      <td>The Faeries' Oracle</td>\n",
       "      <td>Brian Froud-Jessica Macbeth</td>\n",
       "      <td>9780743201117</td>\n",
       "      <td>224</td>\n",
       "      <td>None</td>\n",
       "    </tr>\n",
       "    <tr>\n",
       "      <th>13718</th>\n",
       "      <td>The World of The Dark Crystal</td>\n",
       "      <td>Brian Froud</td>\n",
       "      <td>9781862056244</td>\n",
       "      <td>132</td>\n",
       "      <td>None</td>\n",
       "    </tr>\n",
       "  </tbody>\n",
       "</table>\n",
       "<p>13719 rows × 5 columns</p>\n",
       "</div>"
      ],
      "text/plain": [
       "                                                   title  \\\n",
       "0      Harry Potter and the Half-Blood Prince (Harry ...   \n",
       "1      Harry Potter and the Order of the Phoenix (Har...   \n",
       "2      Harry Potter and the Sorcerer's Stone (Harry P...   \n",
       "3      Harry Potter and the Chamber of Secrets (Harry...   \n",
       "4      Harry Potter and the Prisoner of Azkaban (Harr...   \n",
       "...                                                  ...   \n",
       "13714                                     M Is for Magic   \n",
       "13715                                       Black Orchid   \n",
       "13716                        InterWorld (InterWorld  #1)   \n",
       "13717                                The Faeries' Oracle   \n",
       "13718                      The World of The Dark Crystal   \n",
       "\n",
       "                             authors         isbn13  # num_pages  \\\n",
       "0         J.K. Rowling-Mary GrandPré  9780439785969          652   \n",
       "1         J.K. Rowling-Mary GrandPré  9780439358071          870   \n",
       "2         J.K. Rowling-Mary GrandPré  9780439554930          320   \n",
       "3                       J.K. Rowling  9780439554893          352   \n",
       "4         J.K. Rowling-Mary GrandPré  9780439655484          435   \n",
       "...                              ...            ...          ...   \n",
       "13714  Neil Gaiman-Teddy Kristiansen  9780061186424          260   \n",
       "13715        Neil Gaiman-Dave McKean  9780930289553          160   \n",
       "13716     Neil Gaiman-Michael Reaves  9780061238963          239   \n",
       "13717    Brian Froud-Jessica Macbeth  9780743201117          224   \n",
       "13718                    Brian Froud  9781862056244          132   \n",
       "\n",
       "                                               cover_url  \n",
       "0      https://covers.openlibrary.org/b/id/9326654-M.jpg  \n",
       "1      https://covers.openlibrary.org/b/id/12025650-M...  \n",
       "2      https://covers.openlibrary.org/b/id/7572543-M.jpg  \n",
       "3      https://covers.openlibrary.org/b/id/10301720-M...  \n",
       "4      https://covers.openlibrary.org/b/id/8778528-M.jpg  \n",
       "...                                                  ...  \n",
       "13714                                               None  \n",
       "13715                                               None  \n",
       "13716                                               None  \n",
       "13717                                               None  \n",
       "13718                                               None  \n",
       "\n",
       "[13719 rows x 5 columns]"
      ]
     },
     "execution_count": 33,
     "metadata": {},
     "output_type": "execute_result"
    }
   ],
   "source": [
    "books_df"
   ]
  },
  {
   "cell_type": "markdown",
   "metadata": {
    "tags": []
   },
   "source": [
    "## Calling the API with multiple ISBNs at a time"
   ]
  },
  {
   "cell_type": "code",
   "execution_count": 34,
   "metadata": {},
   "outputs": [
    {
     "data": {
      "text/plain": [
       "['ISBN:9780439785969', 'ISBN:9780439358071', 'ISBN:9780439554930']"
      ]
     },
     "execution_count": 34,
     "metadata": {},
     "output_type": "execute_result"
    }
   ],
   "source": [
    "isbns = [9780439785969, 9780439358071, 9780439554930] \n",
    "[f\"ISBN:{isbn}\" for isbn in isbns]"
   ]
  },
  {
   "cell_type": "markdown",
   "metadata": {},
   "source": [
    "Use only one API call!"
   ]
  },
  {
   "cell_type": "code",
   "execution_count": 35,
   "metadata": {},
   "outputs": [
    {
     "data": {
      "text/plain": [
       "'ISBN:9780439785969,ISBN:9780439358071,ISBN:9780439554930'"
      ]
     },
     "execution_count": 35,
     "metadata": {},
     "output_type": "execute_result"
    }
   ],
   "source": [
    "# YOUR CODE HERE\n",
    "\",\".join([f\"ISBN:{isbn}\" for isbn in isbns])"
   ]
  },
  {
   "cell_type": "markdown",
   "metadata": {},
   "source": [
    "Set the ISBN13 column as an index"
   ]
  },
  {
   "cell_type": "code",
   "execution_count": 36,
   "metadata": {},
   "outputs": [],
   "source": [
    "# YOUR CODE HERE\n",
    "def fetch_books(isbns):\n",
    "    # Define the URL and build bibkeys from ISBN\n",
    "    url = \"https://openlibrary.org/api/books\"\n",
    "    bibkeys = \",\".join([f\"ISBN:{isbn}\" for isbn in isbns])\n",
    "    # Define parameters for HTTP request\n",
    "    params = {\n",
    "        'bibkeys': bibkeys, 'format': 'json', 'jscmd': 'data'\n",
    "    }\n",
    "     # Perform request\n",
    "    response = requests.get(url, params=params).json() \n",
    "    return response"
   ]
  },
  {
   "cell_type": "code",
   "execution_count": 37,
   "metadata": {},
   "outputs": [
    {
     "name": "stdout",
     "output_type": "stream",
     "text": [
      "{'ISBN:9780439785969': {'url': 'https://openlibrary.org/books/OL24280830M/Harry_Potter_and_the_Half-Blood_Prince', 'key': '/books/OL24280830M', 'title': 'Harry Potter and the Half-Blood Prince', 'authors': [{'url': 'https://openlibrary.org/authors/OL23919A/J._K._Rowling', 'name': 'J. K. Rowling'}], 'identifiers': {'amazon': ['0439785960'], 'goodreads': ['53178655'], 'isbn_10': ['0439785960'], 'isbn_13': ['9780439785969'], 'oclc': ['70666878', '819153929'], 'openlibrary': ['OL24280830M']}, 'classifications': {'lc_classifications': ['PZ7.R79835Halc 2005']}, 'publishers': [{'name': 'Scholastic'}], 'publish_places': [{'name': 'New York, USA'}], 'publish_date': '2006-09', 'subjects': [{'name': 'orphans', 'url': 'https://openlibrary.org/subjects/orphans'}, {'name': 'foster homes', 'url': 'https://openlibrary.org/subjects/foster_homes'}, {'name': 'romans', 'url': 'https://openlibrary.org/subjects/romans'}, {'name': 'magie', 'url': 'https://openlibrary.org/subjects/magie'}, {'name': 'adolescence', 'url': 'https://openlibrary.org/subjects/adolescence'}, {'name': 'Quill Award winner', 'url': 'https://openlibrary.org/subjects/quill_award_winner'}, {'name': 'Scottish Children’s Book Award winner', 'url': 'https://openlibrary.org/subjects/scottish_children’s_book_award_winner'}, {'name': 'British Book of the Year Award winner', 'url': 'https://openlibrary.org/subjects/british_book_of_the_year_award_winner'}, {'name': 'Fiction', 'url': 'https://openlibrary.org/subjects/fiction'}, {'name': 'Juvenile fiction', 'url': 'https://openlibrary.org/subjects/juvenile_fiction'}, {'name': 'Magic', 'url': 'https://openlibrary.org/subjects/magic'}, {'name': 'Schools', 'url': 'https://openlibrary.org/subjects/schools'}, {'name': 'Witches', 'url': 'https://openlibrary.org/subjects/witches'}, {'name': 'Wizards', 'url': 'https://openlibrary.org/subjects/wizards'}, {'name': 'New York Times bestseller', 'url': 'https://openlibrary.org/subjects/new_york_times_bestseller'}, {'name': 'Fantasy fiction', 'url': 'https://openlibrary.org/subjects/fantasy_fiction'}, {'name': 'nyt:series_books=2006-07-15', 'url': 'https://openlibrary.org/subjects/nyt:series_books=2006-07-15'}, {'name': 'nyt:series_books=2006-09-16', 'url': 'https://openlibrary.org/subjects/nyt:series_books=2006-09-16'}, {'name': 'Romans, nouvelles, etc. pour la jeunesse', 'url': 'https://openlibrary.org/subjects/romans,_nouvelles,_etc._pour_la_jeunesse'}, {'name': 'Sorciers', 'url': 'https://openlibrary.org/subjects/sorciers'}, {'name': 'Roman fantastique', 'url': 'https://openlibrary.org/subjects/roman_fantastique'}, {'name': 'Merveilleux', 'url': 'https://openlibrary.org/subjects/merveilleux'}, {'name': 'Hogwarts School of Witchcraft and Wizardry (Imaginary place)', 'url': 'https://openlibrary.org/subjects/hogwarts_school_of_witchcraft_and_wizardry_(imaginary_place)'}, {'name': 'Harry Potter (Fictitious character)', 'url': 'https://openlibrary.org/subjects/harry_potter_(fictitious_character)'}, {'name': 'Hogwarts School of Witchcraft and Wizardry (Imaginary organization)', 'url': 'https://openlibrary.org/subjects/hogwarts_school_of_witchcraft_and_wizardry_(imaginary_organization)'}, {'name': 'Magos', 'url': 'https://openlibrary.org/subjects/magos'}, {'name': 'Magia', 'url': 'https://openlibrary.org/subjects/magia'}, {'name': 'Ficción juvenil', 'url': 'https://openlibrary.org/subjects/ficción_juvenil'}, {'name': 'Escuelas', 'url': 'https://openlibrary.org/subjects/escuelas'}, {'name': 'Novela fantástica', 'url': 'https://openlibrary.org/subjects/novela_fantástica'}, {'name': 'England', 'url': 'https://openlibrary.org/subjects/england'}, {'name': 'School stories', 'url': 'https://openlibrary.org/subjects/school_stories'}, {'name': 'Family', 'url': 'https://openlibrary.org/subjects/family'}, {'name': 'Harry Potter (Fictional character)', 'url': 'https://openlibrary.org/subjects/harry_potter_(fictional_character)'}, {'name': 'Orphans & Foster Homes', 'url': 'https://openlibrary.org/subjects/orphans_&_foster_homes'}, {'name': 'Social Themes', 'url': 'https://openlibrary.org/subjects/social_themes'}, {'name': 'Fantasy', 'url': 'https://openlibrary.org/subjects/fantasy'}, {'name': 'Fantasy & Magic', 'url': 'https://openlibrary.org/subjects/fantasy_&_magic'}, {'name': 'Friendship', 'url': 'https://openlibrary.org/subjects/friendship'}, {'name': 'Reading Level-Grade 11', 'url': 'https://openlibrary.org/subjects/reading_level-grade_11'}, {'name': 'Reading Level-Grade 10', 'url': 'https://openlibrary.org/subjects/reading_level-grade_10'}, {'name': 'Reading Level-Grade 12', 'url': 'https://openlibrary.org/subjects/reading_level-grade_12'}, {'name': 'England, fiction', 'url': 'https://openlibrary.org/subjects/england,_fiction'}, {'name': 'Magic, fiction', 'url': 'https://openlibrary.org/subjects/magic,_fiction'}, {'name': 'Schools, fiction', 'url': 'https://openlibrary.org/subjects/schools,_fiction'}, {'name': \"Children's fiction\", 'url': \"https://openlibrary.org/subjects/children's_fiction\"}, {'name': 'Potter, harry (fictitious character), fiction', 'url': 'https://openlibrary.org/subjects/potter,_harry_(fictitious_character),_fiction'}, {'name': 'Wizards, fiction', 'url': 'https://openlibrary.org/subjects/wizards,_fiction'}, {'name': 'Hogwarts school of witchcraft and wizardry (imaginary organization), fiction', 'url': 'https://openlibrary.org/subjects/hogwarts_school_of_witchcraft_and_wizardry_(imaginary_organization),_fiction'}, {'name': 'Large type books', 'url': 'https://openlibrary.org/subjects/large_type_books'}, {'name': 'Bengali Detective and mystery stories', 'url': 'https://openlibrary.org/subjects/bengali_detective_and_mystery_stories'}, {'name': 'Hermione Granger (Fictitious character)', 'url': 'https://openlibrary.org/subjects/hermione_granger_(fictitious_character)'}, {'name': 'Ron Weasley (Fictitious character)', 'url': 'https://openlibrary.org/subjects/ron_weasley_(fictitious_character)'}, {'name': 'Good and evil', 'url': 'https://openlibrary.org/subjects/good_and_evil'}, {'name': 'Fantasiewelt', 'url': 'https://openlibrary.org/subjects/fantasiewelt'}, {'name': 'Phantastische Literatur', 'url': 'https://openlibrary.org/subjects/phantastische_literatur'}, {'name': 'Englisch', 'url': 'https://openlibrary.org/subjects/englisch'}, {'name': 'Magic - Fiction', 'url': 'https://openlibrary.org/subjects/magic_-_fiction'}, {'name': 'Fiction, fantasy, general', 'url': 'https://openlibrary.org/subjects/fiction,_fantasy,_general'}, {'name': 'Warlocks', 'url': 'https://openlibrary.org/subjects/warlocks'}, {'name': 'Potter, Harry (Personnage fictif)', 'url': 'https://openlibrary.org/subjects/potter,_harry_(personnage_fictif)'}, {'name': 'Magiciens', 'url': 'https://openlibrary.org/subjects/magiciens'}, {'name': 'Écoles', 'url': 'https://openlibrary.org/subjects/écoles'}, {'name': 'Poudlard (Organisation imaginaire)', 'url': 'https://openlibrary.org/subjects/poudlard_(organisation_imaginaire)'}], 'subject_places': [{'name': 'England', 'url': 'https://openlibrary.org/subjects/place:england'}, {'name': 'Hogwarts School of Witchcraft and Wizardry', 'url': 'https://openlibrary.org/subjects/place:hogwarts_school_of_witchcraft_and_wizardry'}, {'name': 'Privet Drive', 'url': 'https://openlibrary.org/subjects/place:privet_drive'}, {'name': 'Hogwarts School of Witchcraft and Wizardry (Imaginary organization)', 'url': 'https://openlibrary.org/subjects/place:hogwarts_school_of_witchcraft_and_wizardry_(imaginary_organization)'}], 'subject_people': [{'name': 'Harry Potter', 'url': 'https://openlibrary.org/subjects/person:harry_potter'}, {'name': 'Dumbledore', 'url': 'https://openlibrary.org/subjects/person:dumbledore'}, {'name': 'Lord Voldemort', 'url': 'https://openlibrary.org/subjects/person:lord_voldemort'}, {'name': 'Draco Malfoy', 'url': 'https://openlibrary.org/subjects/person:draco_malfoy'}, {'name': 'Hermione Granger', 'url': 'https://openlibrary.org/subjects/person:hermione_granger'}, {'name': 'Ron Weasley', 'url': 'https://openlibrary.org/subjects/person:ron_weasley'}, {'name': 'Tom Riddle', 'url': 'https://openlibrary.org/subjects/person:tom_riddle'}, {'name': 'Harry Potter (Fictitious character)', 'url': 'https://openlibrary.org/subjects/person:harry_potter_(fictitious_character)'}, {'name': 'Hermine Granger', 'url': 'https://openlibrary.org/subjects/person:hermine_granger'}, {'name': 'Ron Weasly', 'url': 'https://openlibrary.org/subjects/person:ron_weasly'}], 'excerpts': [{'text': 'It was nearing midnight and the Prime Minister was sitting alone in his office, reading a long memo that was slipping through his brain without leaving the slightest trace of meaning behind.', 'comment': '', 'first_sentence': True}, {'text': 'It was nearing midnight and the Prime Minister was sitting alone in his office, reading a long memo that was slipping through his brain without leaving the slightest trace of meaning behind.', 'comment': 'first sentence'}], 'notes': 'USA', 'links': [{'title': 'jkrowling.com/book/harry-potter-half-blood-prince/', 'url': 'https://www.jkrowling.com/book/harry-potter-half-blood-prince/'}, {'title': 'Wikipedia', 'url': 'https://en.wikipedia.org/wiki/Harry_Potter_and_the_Half-Blood_Prince'}, {'title': 'Into the gloom - review | the Guardian', 'url': 'https://www.theguardian.com/books/2005/jul/23/booksforchildrenandteenagers.harrypotter'}], 'ebooks': [{'preview_url': 'https://archive.org/details/harrypotterhalfb2005rowl', 'availability': 'restricted', 'formats': {}}], 'cover': {'small': 'https://covers.openlibrary.org/b/id/9326654-S.jpg', 'medium': 'https://covers.openlibrary.org/b/id/9326654-M.jpg', 'large': 'https://covers.openlibrary.org/b/id/9326654-L.jpg'}}, 'ISBN:9780439358071': {'url': 'https://openlibrary.org/books/OL34152967M/Harry_Potter_and_the_Order_of_the_Phoenix', 'key': '/books/OL34152967M', 'title': 'Harry Potter and the Order of the Phoenix', 'authors': [{'url': 'https://openlibrary.org/authors/OL23919A/J._K._Rowling', 'name': 'J. K. Rowling'}], 'number_of_pages': 870, 'pagination': '870p.', 'identifiers': {'goodreads': ['57451934'], 'isbn_10': ['0439358078'], 'isbn_13': ['9780439358071'], 'lccn': ['2003102525'], 'oclc': ['56098238', '993116990'], 'openlibrary': ['OL34152967M']}, 'publishers': [{'name': 'Scholastic Inc.'}], 'publish_places': [{'name': 'New York'}], 'publish_date': '2004-09', 'subjects': [{'name': \"Children's Books/Ages 9-12 Fiction\", 'url': \"https://openlibrary.org/subjects/children's_books/ages_9-12_fiction\"}, {'name': 'Witches and warlocks', 'url': 'https://openlibrary.org/subjects/witches_and_warlocks'}, {'name': 'Juvenile audience', 'url': 'https://openlibrary.org/subjects/juvenile_audience'}, {'name': 'Juvenile works', 'url': 'https://openlibrary.org/subjects/juvenile_works'}, {'name': 'Magic', 'url': 'https://openlibrary.org/subjects/magic'}, {'name': 'Fantasy fiction', 'url': 'https://openlibrary.org/subjects/fantasy_fiction'}, {'name': 'Juvenile fiction', 'url': 'https://openlibrary.org/subjects/juvenile_fiction'}, {'name': 'Fiction', 'url': 'https://openlibrary.org/subjects/fiction'}, {'name': 'Fantasy', 'url': 'https://openlibrary.org/subjects/fantasy'}, {'name': 'Friendship', 'url': 'https://openlibrary.org/subjects/friendship'}, {'name': \"Children's stories\", 'url': \"https://openlibrary.org/subjects/children's_stories\"}, {'name': 'Juvenile literature', 'url': 'https://openlibrary.org/subjects/juvenile_literature'}, {'name': 'Magia', 'url': 'https://openlibrary.org/subjects/magia'}, {'name': 'Novela juvenil', 'url': 'https://openlibrary.org/subjects/novela_juvenil'}, {'name': 'Traducciones al español', 'url': 'https://openlibrary.org/subjects/traducciones_al_español'}, {'name': 'Escuelas', 'url': 'https://openlibrary.org/subjects/escuelas'}, {'name': 'Novela inglesa', 'url': 'https://openlibrary.org/subjects/novela_inglesa'}, {'name': 'Romans, nouvelles, etc. pour la jeunesse', 'url': 'https://openlibrary.org/subjects/romans,_nouvelles,_etc._pour_la_jeunesse'}, {'name': 'Magiciens', 'url': 'https://openlibrary.org/subjects/magiciens'}, {'name': 'Magic in fiction', 'url': 'https://openlibrary.org/subjects/magic_in_fiction'}, {'name': 'England in fiction', 'url': 'https://openlibrary.org/subjects/england_in_fiction'}, {'name': 'Schools in fiction', 'url': 'https://openlibrary.org/subjects/schools_in_fiction'}, {'name': 'Écoles', 'url': 'https://openlibrary.org/subjects/écoles'}, {'name': 'Schools', 'url': 'https://openlibrary.org/subjects/schools'}, {'name': 'Sorcières', 'url': 'https://openlibrary.org/subjects/sorcières'}, {'name': 'Wizards in fiction', 'url': 'https://openlibrary.org/subjects/wizards_in_fiction'}, {'name': 'Translations from English', 'url': 'https://openlibrary.org/subjects/translations_from_english'}, {'name': 'Coming of age', 'url': 'https://openlibrary.org/subjects/coming_of_age'}, {'name': 'New York Times bestseller', 'url': 'https://openlibrary.org/subjects/new_york_times_bestseller'}, {'name': 'Open Library Staff Picks', 'url': 'https://openlibrary.org/subjects/open_library_staff_picks'}, {'name': 'nyt:series_books=2006-09-16', 'url': 'https://openlibrary.org/subjects/nyt:series_books=2006-09-16'}, {'name': 'School stories', 'url': 'https://openlibrary.org/subjects/school_stories'}, {'name': 'Family', 'url': 'https://openlibrary.org/subjects/family'}, {'name': 'Orphans & Foster Homes', 'url': 'https://openlibrary.org/subjects/orphans_&_foster_homes'}, {'name': 'Social Themes', 'url': 'https://openlibrary.org/subjects/social_themes'}, {'name': 'Fantasy & Magic', 'url': 'https://openlibrary.org/subjects/fantasy_&_magic'}, {'name': 'Boarding schools', 'url': 'https://openlibrary.org/subjects/boarding_schools'}, {'name': 'Magie', 'url': 'https://openlibrary.org/subjects/magie'}, {'name': '{acute}Ecoles', 'url': 'https://openlibrary.org/subjects/{acute}ecoles'}, {'name': 'Sorciaeres', 'url': 'https://openlibrary.org/subjects/sorciaeres'}, {'name': 'Roman pour la jeunesse', 'url': 'https://openlibrary.org/subjects/roman_pour_la_jeunesse'}, {'name': 'Romans', 'url': 'https://openlibrary.org/subjects/romans'}, {'name': 'Witches', 'url': 'https://openlibrary.org/subjects/witches'}, {'name': 'Sorciers', 'url': 'https://openlibrary.org/subjects/sorciers'}, {'name': 'Potter, Harry (Personnage fictif)', 'url': 'https://openlibrary.org/subjects/potter,_harry_(personnage_fictif)'}, {'name': 'Hogwarts School of Witchcraft and Wizardry (Imaginary place)', 'url': 'https://openlibrary.org/subjects/hogwarts_school_of_witchcraft_and_wizardry_(imaginary_place)'}, {'name': 'Harry Potter (Fictitious character)', 'url': 'https://openlibrary.org/subjects/harry_potter_(fictitious_character)'}, {'name': 'Potter, Harry (Fictitious character)', 'url': 'https://openlibrary.org/subjects/potter,_harry_(fictitious_character)'}, {'name': 'English Fantasy fiction', 'url': 'https://openlibrary.org/subjects/english_fantasy_fiction'}, {'name': 'Hogwarts School of Witchcraft and Wizardry (Imaginary organization)', 'url': 'https://openlibrary.org/subjects/hogwarts_school_of_witchcraft_and_wizardry_(imaginary_organization)'}, {'name': 'Arabic language materials', 'url': 'https://openlibrary.org/subjects/arabic_language_materials'}, {'name': 'Magos', 'url': 'https://openlibrary.org/subjects/magos'}, {'name': 'Ficción juvenil', 'url': 'https://openlibrary.org/subjects/ficción_juvenil'}, {'name': 'Novela fantástica', 'url': 'https://openlibrary.org/subjects/novela_fantástica'}, {'name': 'England', 'url': 'https://openlibrary.org/subjects/england'}, {'name': 'Wizards', 'url': 'https://openlibrary.org/subjects/wizards'}, {'name': 'Witchcraft', 'url': 'https://openlibrary.org/subjects/witchcraft'}, {'name': 'Severus Snape (Fictitious character)', 'url': 'https://openlibrary.org/subjects/severus_snape_(fictitious_character)'}, {'name': 'Reading Level-Grade 11', 'url': 'https://openlibrary.org/subjects/reading_level-grade_11'}, {'name': 'Reading Level-Grade 12', 'url': 'https://openlibrary.org/subjects/reading_level-grade_12'}, {'name': 'Lebensrettung', 'url': 'https://openlibrary.org/subjects/lebensrettung'}, {'name': 'Conduct of life', 'url': 'https://openlibrary.org/subjects/conduct_of_life'}, {'name': 'Internat', 'url': 'https://openlibrary.org/subjects/internat'}, {'name': 'Junge', 'url': 'https://openlibrary.org/subjects/junge'}, {'name': 'Weissagung', 'url': 'https://openlibrary.org/subjects/weissagung'}, {'name': 'Existenzkampf', 'url': 'https://openlibrary.org/subjects/existenzkampf'}, {'name': 'Fabeltiere', 'url': 'https://openlibrary.org/subjects/fabeltiere'}, {'name': 'Boarding school students', 'url': 'https://openlibrary.org/subjects/boarding_school_students'}, {'name': 'Military aspects', 'url': 'https://openlibrary.org/subjects/military_aspects'}, {'name': 'Parapsychology', 'url': 'https://openlibrary.org/subjects/parapsychology'}, {'name': 'Das Böse', 'url': 'https://openlibrary.org/subjects/das_böse'}, {'name': 'Magier', 'url': 'https://openlibrary.org/subjects/magier'}, {'name': 'Lebensgefahr', 'url': 'https://openlibrary.org/subjects/lebensgefahr'}, {'name': 'Schüler', 'url': 'https://openlibrary.org/subjects/schüler'}, {'name': 'Freundschaft', 'url': 'https://openlibrary.org/subjects/freundschaft'}, {'name': 'Rollentausch', 'url': 'https://openlibrary.org/subjects/rollentausch'}, {'name': 'Jugendgruppe', 'url': 'https://openlibrary.org/subjects/jugendgruppe'}, {'name': 'Youth', 'url': 'https://openlibrary.org/subjects/youth'}, {'name': 'Telepathie', 'url': 'https://openlibrary.org/subjects/telepathie'}, {'name': 'Das Gute', 'url': 'https://openlibrary.org/subjects/das_gute'}, {'name': 'Dueling', 'url': 'https://openlibrary.org/subjects/dueling'}, {'name': 'Teacher-student relationships', 'url': 'https://openlibrary.org/subjects/teacher-student_relationships'}, {'name': 'Außenseiter', 'url': 'https://openlibrary.org/subjects/außenseiter'}, {'name': 'Imaginärer Schauplatz', 'url': 'https://openlibrary.org/subjects/imaginärer_schauplatz'}, {'name': 'Hate', 'url': 'https://openlibrary.org/subjects/hate'}, {'name': 'Large type books', 'url': 'https://openlibrary.org/subjects/large_type_books'}, {'name': 'Potter, harry (fictitious character), fiction', 'url': 'https://openlibrary.org/subjects/potter,_harry_(fictitious_character),_fiction'}, {'name': 'Hogwarts school of witchcraft and wizardry (imaginary organization), fiction', 'url': 'https://openlibrary.org/subjects/hogwarts_school_of_witchcraft_and_wizardry_(imaginary_organization),_fiction'}, {'name': 'Wizards, fiction', 'url': 'https://openlibrary.org/subjects/wizards,_fiction'}, {'name': \"Children's fiction\", 'url': \"https://openlibrary.org/subjects/children's_fiction\"}, {'name': 'Magic, fiction', 'url': 'https://openlibrary.org/subjects/magic,_fiction'}, {'name': 'Schools, fiction', 'url': 'https://openlibrary.org/subjects/schools,_fiction'}, {'name': 'England, fiction', 'url': 'https://openlibrary.org/subjects/england,_fiction'}, {'name': 'English literature', 'url': 'https://openlibrary.org/subjects/english_literature'}, {'name': 'Hermione Granger (Fictitious character)', 'url': 'https://openlibrary.org/subjects/hermione_granger_(fictitious_character)'}, {'name': 'Ron Weasley (Fictitious character)', 'url': 'https://openlibrary.org/subjects/ron_weasley_(fictitious_character)'}, {'name': 'Schools - Fiction', 'url': 'https://openlibrary.org/subjects/schools_-_fiction'}, {'name': 'Coming of age - Fiction', 'url': 'https://openlibrary.org/subjects/coming_of_age_-_fiction'}, {'name': 'Magic - Fiction', 'url': 'https://openlibrary.org/subjects/magic_-_fiction'}, {'name': 'Fiction, fantasy, general', 'url': 'https://openlibrary.org/subjects/fiction,_fantasy,_general'}, {'name': 'Adventure and adventurers, fiction', 'url': 'https://openlibrary.org/subjects/adventure_and_adventurers,_fiction'}, {'name': 'Friendship, fiction', 'url': 'https://openlibrary.org/subjects/friendship,_fiction'}, {'name': 'Poudlard (Organisation imaginaire)', 'url': 'https://openlibrary.org/subjects/poudlard_(organisation_imaginaire)'}, {'name': 'Spanish language', 'url': 'https://openlibrary.org/subjects/spanish_language'}, {'name': 'Reading materials', 'url': 'https://openlibrary.org/subjects/reading_materials'}, {'name': 'Romans, nouvelles', 'url': 'https://openlibrary.org/subjects/romans,_nouvelles'}, {'name': 'Hogwarts Schools of Witchcraft and Wizardry (Imaginary Place)', 'url': 'https://openlibrary.org/subjects/hogwarts_schools_of_witchcraft_and_wizardry_(imaginary_place)'}, {'name': 'Eventyrlige fortællinger', 'url': 'https://openlibrary.org/subjects/eventyrlige_fortællinger'}, {'name': 'Troldmænd', 'url': 'https://openlibrary.org/subjects/troldmænd'}, {'name': 'Magi', 'url': 'https://openlibrary.org/subjects/magi'}], 'subject_places': [{'name': 'England', 'url': 'https://openlibrary.org/subjects/place:england'}, {'name': 'Hogwarts Schools of Witchcraft and Wizardry', 'url': 'https://openlibrary.org/subjects/place:hogwarts_schools_of_witchcraft_and_wizardry'}, {'name': 'Grimmauld Place', 'url': 'https://openlibrary.org/subjects/place:grimmauld_place'}, {'name': 'Privet Drive', 'url': 'https://openlibrary.org/subjects/place:privet_drive'}, {'name': 'Angleterre', 'url': 'https://openlibrary.org/subjects/place:angleterre'}], 'subject_people': [{'name': 'Harry Potter', 'url': 'https://openlibrary.org/subjects/person:harry_potter'}, {'name': 'Albus Dumbledore', 'url': 'https://openlibrary.org/subjects/person:albus_dumbledore'}, {'name': 'Hagrid', 'url': 'https://openlibrary.org/subjects/person:hagrid'}, {'name': 'Ron Weasley', 'url': 'https://openlibrary.org/subjects/person:ron_weasley'}, {'name': 'Hermione Granger', 'url': 'https://openlibrary.org/subjects/person:hermione_granger'}, {'name': 'Lord Voldemort', 'url': 'https://openlibrary.org/subjects/person:lord_voldemort'}, {'name': 'Severus Snape', 'url': 'https://openlibrary.org/subjects/person:severus_snape'}, {'name': 'Dudley Dursley', 'url': 'https://openlibrary.org/subjects/person:dudley_dursley'}, {'name': 'Hermine Granger', 'url': 'https://openlibrary.org/subjects/person:hermine_granger'}, {'name': 'Ron Weasly', 'url': 'https://openlibrary.org/subjects/person:ron_weasly'}, {'name': 'Harry Potter (Fictitious character)', 'url': 'https://openlibrary.org/subjects/person:harry_potter_(fictitious_character)'}, {'name': 'Hermione Granger (Fictitious character)', 'url': 'https://openlibrary.org/subjects/person:hermione_granger_(fictitious_character)'}, {'name': 'Ron Weasley (Fictitious character)', 'url': 'https://openlibrary.org/subjects/person:ron_weasley_(fictitious_character)'}], 'excerpts': [{'text': 'The hottest day of the summer so far was drawing to a close and a drowsy silence lay over the large, square houses of Privet Drive.', 'comment': 'first sentence'}], 'notes': 'US', 'links': [{'title': 'Harry Potter and the Order of the Phoenix - J. K. Rowling (jkrowling.com)', 'url': 'https://www.jkrowling.com/book/harry-potter-order-phoenix/'}, {'title': 'Harry Potter and the Order of the Phoenix - Wikipedia', 'url': 'https://en.wikipedia.org/wiki/Harry_Potter_and_the_Order_of_the_Phoenix'}], 'ebooks': [{'preview_url': 'https://archive.org/details/harrypotterorder0000rowl_h2t4', 'availability': 'restricted', 'formats': {}}], 'cover': {'small': 'https://covers.openlibrary.org/b/id/12025650-S.jpg', 'medium': 'https://covers.openlibrary.org/b/id/12025650-M.jpg', 'large': 'https://covers.openlibrary.org/b/id/12025650-L.jpg'}}, 'ISBN:9780439554930': {'url': 'https://openlibrary.org/books/OL26018592M/Harry_Potter_and_the_Sorcerers_Stone', 'key': '/books/OL26018592M', 'title': 'Harry Potter and the Sorcerers Stone', 'authors': [{'url': 'https://openlibrary.org/authors/OL23919A/J._K._Rowling', 'name': 'J. K. Rowling'}], 'identifiers': {'alibris_id': ['9780439554930'], 'amazon': ['0439554934'], 'goodreads': ['3'], 'isbn_10': ['0439554934'], 'isbn_13': ['9780439554930'], 'oclc': ['54367447'], 'openlibrary': ['OL26018592M']}, 'publishers': [{'name': 'Arthur A. Levine Books'}], 'publish_date': '2003', 'subjects': [{'name': 'Ghosts', 'url': 'https://openlibrary.org/subjects/ghosts'}, {'name': 'Monsters', 'url': 'https://openlibrary.org/subjects/monsters'}, {'name': 'Vampires', 'url': 'https://openlibrary.org/subjects/vampires'}, {'name': 'Witches', 'url': 'https://openlibrary.org/subjects/witches'}, {'name': 'Challenges and Overcoming Obstacles', 'url': 'https://openlibrary.org/subjects/challenges_and_overcoming_obstacles'}, {'name': 'Magic and Supernatural', 'url': 'https://openlibrary.org/subjects/magic_and_supernatural'}, {'name': 'Cleverness', 'url': 'https://openlibrary.org/subjects/cleverness'}, {'name': 'School Life', 'url': 'https://openlibrary.org/subjects/school_life'}, {'name': 'school stories', 'url': 'https://openlibrary.org/subjects/school_stories'}, {'name': 'Wizards', 'url': 'https://openlibrary.org/subjects/wizards'}, {'name': 'Magic', 'url': 'https://openlibrary.org/subjects/magic'}, {'name': 'MAGIA', 'url': 'https://openlibrary.org/subjects/magia'}, {'name': 'MAGOS', 'url': 'https://openlibrary.org/subjects/magos'}, {'name': 'Juvenile fiction', 'url': 'https://openlibrary.org/subjects/juvenile_fiction'}, {'name': 'Fiction', 'url': 'https://openlibrary.org/subjects/fiction'}, {'name': 'NOVELAS INGLESAS', 'url': 'https://openlibrary.org/subjects/novelas_inglesas'}, {'name': 'Schools', 'url': 'https://openlibrary.org/subjects/schools'}, {'name': 'orphans', 'url': 'https://openlibrary.org/subjects/orphans'}, {'name': 'fantasy fiction', 'url': 'https://openlibrary.org/subjects/fantasy_fiction'}, {'name': 'England in fiction', 'url': 'https://openlibrary.org/subjects/england_in_fiction'}, {'name': 'Witches in fiction', 'url': 'https://openlibrary.org/subjects/witches_in_fiction'}, {'name': 'Wizards in fiction', 'url': 'https://openlibrary.org/subjects/wizards_in_fiction'}, {'name': 'Alchemy', 'url': 'https://openlibrary.org/subjects/alchemy'}, {'name': 'New York Times bestseller', 'url': 'https://openlibrary.org/subjects/new_york_times_bestseller'}, {'name': 'Juvenile literature', 'url': 'https://openlibrary.org/subjects/juvenile_literature'}, {'name': 'Magic in fiction', 'url': 'https://openlibrary.org/subjects/magic_in_fiction'}, {'name': 'Open Library Staff Picks', 'url': 'https://openlibrary.org/subjects/open_library_staff_picks'}, {'name': 'Juvenile audience', 'url': 'https://openlibrary.org/subjects/juvenile_audience'}, {'name': \"Children's stories\", 'url': \"https://openlibrary.org/subjects/children's_stories\"}, {'name': 'Juvenile works', 'url': 'https://openlibrary.org/subjects/juvenile_works'}, {'name': 'Schools in fiction', 'url': 'https://openlibrary.org/subjects/schools_in_fiction'}, {'name': 'Fantasy', 'url': 'https://openlibrary.org/subjects/fantasy'}, {'name': 'Hogwarts School of Witchcraft and Wizardry (Imaginary place)', 'url': 'https://openlibrary.org/subjects/hogwarts_school_of_witchcraft_and_wizardry_(imaginary_place)'}, {'name': 'Harry Potter (Fictitious character)', 'url': 'https://openlibrary.org/subjects/harry_potter_(fictitious_character)'}, {'name': 'Ficción juvenil', 'url': 'https://openlibrary.org/subjects/ficción_juvenil'}, {'name': 'Escuelas', 'url': 'https://openlibrary.org/subjects/escuelas'}, {'name': 'Hogwarts School of Witchcraft and Wizardry (Imaginary organization)', 'url': 'https://openlibrary.org/subjects/hogwarts_school_of_witchcraft_and_wizardry_(imaginary_organization)'}, {'name': 'Translations from English', 'url': 'https://openlibrary.org/subjects/translations_from_english'}, {'name': 'Chinese fiction', 'url': 'https://openlibrary.org/subjects/chinese_fiction'}, {'name': 'Hermione Granger (Fictitious character)', 'url': 'https://openlibrary.org/subjects/hermione_granger_(fictitious_character)'}, {'name': 'Reading Level-Grade 9', 'url': 'https://openlibrary.org/subjects/reading_level-grade_9'}, {'name': 'Reading Level-Grade 11', 'url': 'https://openlibrary.org/subjects/reading_level-grade_11'}, {'name': 'Reading Level-Grade 10', 'url': 'https://openlibrary.org/subjects/reading_level-grade_10'}, {'name': 'Reading Level-Grade 12', 'url': 'https://openlibrary.org/subjects/reading_level-grade_12'}, {'name': 'Hogwarts school of witchcraft and wizardry (imaginary organization), fiction', 'url': 'https://openlibrary.org/subjects/hogwarts_school_of_witchcraft_and_wizardry_(imaginary_organization),_fiction'}, {'name': \"Children's fiction\", 'url': \"https://openlibrary.org/subjects/children's_fiction\"}, {'name': 'Schools, fiction', 'url': 'https://openlibrary.org/subjects/schools,_fiction'}, {'name': 'England, fiction', 'url': 'https://openlibrary.org/subjects/england,_fiction'}, {'name': 'Potter, harry (fictitious character), fiction', 'url': 'https://openlibrary.org/subjects/potter,_harry_(fictitious_character),_fiction'}, {'name': 'Wizards, fiction', 'url': 'https://openlibrary.org/subjects/wizards,_fiction'}, {'name': 'Magic, fiction', 'url': 'https://openlibrary.org/subjects/magic,_fiction'}, {'name': 'Fiction, fantasy, general', 'url': 'https://openlibrary.org/subjects/fiction,_fantasy,_general'}, {'name': 'Large type books', 'url': 'https://openlibrary.org/subjects/large_type_books'}, {'name': 'Magier', 'url': 'https://openlibrary.org/subjects/magier'}, {'name': 'Fabeltiere', 'url': 'https://openlibrary.org/subjects/fabeltiere'}, {'name': 'Lehrling', 'url': 'https://openlibrary.org/subjects/lehrling'}, {'name': 'Kinderbuch', 'url': 'https://openlibrary.org/subjects/kinderbuch'}, {'name': 'Stein der Weisen', 'url': 'https://openlibrary.org/subjects/stein_der_weisen'}, {'name': 'Ungeheuer', 'url': 'https://openlibrary.org/subjects/ungeheuer'}, {'name': 'Junge', 'url': 'https://openlibrary.org/subjects/junge'}, {'name': 'English language', 'url': 'https://openlibrary.org/subjects/english_language'}, {'name': 'Translating into Welsh', 'url': 'https://openlibrary.org/subjects/translating_into_welsh'}, {'name': 'Modern history to 20th century: c 1700 to c 1900', 'url': 'https://openlibrary.org/subjects/modern_history_to_20th_century:_c_1700_to_c_1900'}, {'name': 'Literary theory', 'url': 'https://openlibrary.org/subjects/literary_theory'}, {'name': 'English literature', 'url': 'https://openlibrary.org/subjects/english_literature'}, {'name': 'Ron Weasley (Fictitious character)', 'url': 'https://openlibrary.org/subjects/ron_weasley_(fictitious_character)'}, {'name': 'Latin language materials', 'url': 'https://openlibrary.org/subjects/latin_language_materials'}, {'name': 'Romans, nouvelles, etc. pour la jeunesse', 'url': 'https://openlibrary.org/subjects/romans,_nouvelles,_etc._pour_la_jeunesse'}, {'name': 'Poudlard, école de sorcellerie (Organisation imaginaire)', 'url': 'https://openlibrary.org/subjects/poudlard,_école_de_sorcellerie_(organisation_imaginaire)'}, {'name': 'Sorciers', 'url': 'https://openlibrary.org/subjects/sorciers'}, {'name': 'Sorcières', 'url': 'https://openlibrary.org/subjects/sorcières'}, {'name': 'Magie', 'url': 'https://openlibrary.org/subjects/magie'}, {'name': 'Internats', 'url': 'https://openlibrary.org/subjects/internats'}, {'name': 'Adventure and adventurers, fiction', 'url': 'https://openlibrary.org/subjects/adventure_and_adventurers,_fiction'}, {'name': 'Action & Adventure', 'url': 'https://openlibrary.org/subjects/action_&_adventure'}, {'name': 'Fantasy & Magic', 'url': 'https://openlibrary.org/subjects/fantasy_&_magic'}, {'name': 'Social Themes', 'url': 'https://openlibrary.org/subjects/social_themes'}, {'name': 'Friendship', 'url': 'https://openlibrary.org/subjects/friendship'}, {'name': 'Harry Potter (Fictional character)', 'url': 'https://openlibrary.org/subjects/harry_potter_(fictional_character)'}, {'name': 'Friendship, fiction', 'url': 'https://openlibrary.org/subjects/friendship,_fiction'}, {'name': 'German language materials', 'url': 'https://openlibrary.org/subjects/german_language_materials'}, {'name': 'Witchcraft, fiction', 'url': 'https://openlibrary.org/subjects/witchcraft,_fiction'}, {'name': 'Wizard', 'url': 'https://openlibrary.org/subjects/wizard'}, {'name': 'NOVELAS FANTÁSTICAS', 'url': 'https://openlibrary.org/subjects/novelas_fantásticas'}, {'name': 'NOVELAS JUVENILES INGLESAS', 'url': 'https://openlibrary.org/subjects/novelas_juveniles_inglesas'}, {'name': 'LITERATURA JUVENIL ESTADOUNIDENSE', 'url': 'https://openlibrary.org/subjects/literatura_juvenil_estadounidense'}, {'name': 'Écoles', 'url': 'https://openlibrary.org/subjects/écoles'}, {'name': 'Hechicería', 'url': 'https://openlibrary.org/subjects/hechicería'}, {'name': 'Novela juvenil', 'url': 'https://openlibrary.org/subjects/novela_juvenil'}, {'name': 'Ingleterra', 'url': 'https://openlibrary.org/subjects/ingleterra'}, {'name': 'Mystery', 'url': 'https://openlibrary.org/subjects/mystery'}, {'name': 'roman', 'url': 'https://openlibrary.org/subjects/roman'}, {'name': 'English Fantasy literature', 'url': 'https://openlibrary.org/subjects/english_fantasy_literature'}, {'name': 'Translations into Marathi', 'url': 'https://openlibrary.org/subjects/translations_into_marathi'}, {'name': 'English fiction', 'url': 'https://openlibrary.org/subjects/english_fiction'}, {'name': 'Translations into Chinese', 'url': 'https://openlibrary.org/subjects/translations_into_chinese'}, {'name': 'Children - harry potter', 'url': 'https://openlibrary.org/subjects/children_-_harry_potter'}, {'name': 'Teen fiction', 'url': 'https://openlibrary.org/subjects/teen_fiction'}, {'name': 'Children - fiction & literature', 'url': 'https://openlibrary.org/subjects/children_-_fiction_&_literature'}, {'name': 'Science fiction & fantasy', 'url': 'https://openlibrary.org/subjects/science_fiction_&_fantasy'}, {'name': 'Fiction - people', 'url': 'https://openlibrary.org/subjects/fiction_-_people'}, {'name': 'Places & cultures', 'url': 'https://openlibrary.org/subjects/places_&_cultures'}], 'subject_places': [{'name': 'England', 'url': 'https://openlibrary.org/subjects/place:england'}, {'name': 'Hogwarts School of Witchcraft and Wizardry', 'url': 'https://openlibrary.org/subjects/place:hogwarts_school_of_witchcraft_and_wizardry'}, {'name': '4 Privet Drive', 'url': 'https://openlibrary.org/subjects/place:4_privet_drive'}, {'name': 'Diagon Alley', 'url': 'https://openlibrary.org/subjects/place:diagon_alley'}, {'name': 'Leaky Cauldron', 'url': 'https://openlibrary.org/subjects/place:leaky_cauldron'}, {'name': 'Gringotts Wizarding Bank', 'url': 'https://openlibrary.org/subjects/place:gringotts_wizarding_bank'}, {'name': 'Forbidden Forest', 'url': 'https://openlibrary.org/subjects/place:forbidden_forest'}, {'name': \"King's Cross Station\", 'url': \"https://openlibrary.org/subjects/place:king's_cross_station\"}, {'name': 'Platform Nine and Three-quarters', 'url': 'https://openlibrary.org/subjects/place:platform_nine_and_three-quarters'}], 'subject_people': [{'name': 'Harry Potter', 'url': 'https://openlibrary.org/subjects/person:harry_potter'}, {'name': 'Ron Weasley', 'url': 'https://openlibrary.org/subjects/person:ron_weasley'}, {'name': 'Hermione Granger', 'url': 'https://openlibrary.org/subjects/person:hermione_granger'}, {'name': 'Neville Longbottom', 'url': 'https://openlibrary.org/subjects/person:neville_longbottom'}, {'name': 'Rubeus Hagrid', 'url': 'https://openlibrary.org/subjects/person:rubeus_hagrid'}, {'name': 'Albus Dumbledore', 'url': 'https://openlibrary.org/subjects/person:albus_dumbledore'}, {'name': 'Minerva McGonagall', 'url': 'https://openlibrary.org/subjects/person:minerva_mcgonagall'}, {'name': 'Nicolas Flamel', 'url': 'https://openlibrary.org/subjects/person:nicolas_flamel'}, {'name': 'Norbert', 'url': 'https://openlibrary.org/subjects/person:norbert'}, {'name': 'Sorting Hat', 'url': 'https://openlibrary.org/subjects/person:sorting_hat'}, {'name': 'Severus Snape', 'url': 'https://openlibrary.org/subjects/person:severus_snape'}, {'name': 'Quirinus Quirrell', 'url': 'https://openlibrary.org/subjects/person:quirinus_quirrell'}, {'name': 'Petunia Dursley', 'url': 'https://openlibrary.org/subjects/person:petunia_dursley'}, {'name': 'Draco Malfoy', 'url': 'https://openlibrary.org/subjects/person:draco_malfoy'}, {'name': 'Argus Filch', 'url': 'https://openlibrary.org/subjects/person:argus_filch'}, {'name': 'Vernon Dursley', 'url': 'https://openlibrary.org/subjects/person:vernon_dursley'}, {'name': 'Dudley Dursley', 'url': 'https://openlibrary.org/subjects/person:dudley_dursley'}, {'name': 'Fred Weasley', 'url': 'https://openlibrary.org/subjects/person:fred_weasley'}, {'name': 'George Weasley', 'url': 'https://openlibrary.org/subjects/person:george_weasley'}, {'name': 'Ginny Weasley', 'url': 'https://openlibrary.org/subjects/person:ginny_weasley'}, {'name': 'Molly Weasley', 'url': 'https://openlibrary.org/subjects/person:molly_weasley'}, {'name': 'Percy Weasley', 'url': 'https://openlibrary.org/subjects/person:percy_weasley'}, {'name': 'Vincent Crabbe', 'url': 'https://openlibrary.org/subjects/person:vincent_crabbe'}, {'name': 'Gregory Goyle', 'url': 'https://openlibrary.org/subjects/person:gregory_goyle'}, {'name': 'Lee Jordan', 'url': 'https://openlibrary.org/subjects/person:lee_jordan'}, {'name': 'Scabbers', 'url': 'https://openlibrary.org/subjects/person:scabbers'}, {'name': 'Hannah Abbott', 'url': 'https://openlibrary.org/subjects/person:hannah_abbott'}, {'name': 'Bloody Baron', 'url': 'https://openlibrary.org/subjects/person:bloody_baron'}, {'name': 'Susan Bones', 'url': 'https://openlibrary.org/subjects/person:susan_bones'}, {'name': 'Terry Boot', 'url': 'https://openlibrary.org/subjects/person:terry_boot'}, {'name': 'Mandy Brocklehurst', 'url': 'https://openlibrary.org/subjects/person:mandy_brocklehurst'}, {'name': 'Lavender Brown', 'url': 'https://openlibrary.org/subjects/person:lavender_brown'}, {'name': 'Millicent Bulstrode', 'url': 'https://openlibrary.org/subjects/person:millicent_bulstrode'}, {'name': 'Nearly Headless Nick', 'url': 'https://openlibrary.org/subjects/person:nearly_headless_nick'}, {'name': 'Fat Friar', 'url': 'https://openlibrary.org/subjects/person:fat_friar'}, {'name': 'Fat Lady', 'url': 'https://openlibrary.org/subjects/person:fat_lady'}, {'name': 'Justin Finch-Fetchley', 'url': 'https://openlibrary.org/subjects/person:justin_finch-fetchley'}, {'name': 'Seamus Finnigan', 'url': 'https://openlibrary.org/subjects/person:seamus_finnigan'}, {'name': 'Morag MacDougal', 'url': 'https://openlibrary.org/subjects/person:morag_macdougal'}, {'name': 'Lily Moon', 'url': 'https://openlibrary.org/subjects/person:lily_moon'}, {'name': 'Pansy Parkinson', 'url': 'https://openlibrary.org/subjects/person:pansy_parkinson'}, {'name': 'Padma Patil', 'url': 'https://openlibrary.org/subjects/person:padma_patil'}, {'name': 'Parvati Patil', 'url': 'https://openlibrary.org/subjects/person:parvati_patil'}, {'name': 'Peeves', 'url': 'https://openlibrary.org/subjects/person:peeves'}, {'name': 'Dean Thomas', 'url': 'https://openlibrary.org/subjects/person:dean_thomas'}, {'name': 'Lisa Turpin', 'url': 'https://openlibrary.org/subjects/person:lisa_turpin'}, {'name': 'Blaise Zabini', 'url': 'https://openlibrary.org/subjects/person:blaise_zabini'}], 'subject_times': [{'name': 'late 1990s', 'url': 'https://openlibrary.org/subjects/time:late_1990s'}], 'excerpts': [{'text': 'Mr. And Mrs. Dursley, of number four, Privet Drive, were proud to say that they were perfectly normal, thank you very much.', 'comment': 'first sentence'}], 'links': [{'title': \"Harry Potter and the Philosopher's Stone - J.K. Rowling\", 'url': 'https://www.jkrowling.com/book/harry-potter-philosophers-stone/'}, {'title': \"Harry Potter and the Philosopher's Stone - Wikipedia\", 'url': 'https://en.wikipedia.org/wiki/Harry_Potter_and_the_Philosopher%27s_Stone'}, {'title': \"Harry Potter and the Philosopher's Stone by J.K. Rowling – review (theguardian.com)\", 'url': 'https://www.theguardian.com/childrens-books-site/2015/jul/29/harry-potter-and-the-philosophers-stone-j-k-rowling-review'}, {'title': \"Harry Potter and the Philosopher's Stone by J.K. Rowling - review (theguardian.com)\", 'url': 'https://www.theguardian.com/childrens-books-site/2015/mar/01/review-j-k-rowling-harry-potter-philosophers-stone'}], 'cover': {'small': 'https://covers.openlibrary.org/b/id/7572543-S.jpg', 'medium': 'https://covers.openlibrary.org/b/id/7572543-M.jpg', 'large': 'https://covers.openlibrary.org/b/id/7572543-L.jpg'}}}\n"
     ]
    }
   ],
   "source": [
    "print(fetch_books(isbns))"
   ]
  },
  {
   "cell_type": "code",
   "execution_count": null,
   "metadata": {},
   "outputs": [],
   "source": [
    "books_df.set_index(\"isbn13\", inplace=True)"
   ]
  },
  {
   "cell_type": "code",
   "execution_count": null,
   "metadata": {},
   "outputs": [],
   "source": [
    "books_df.head()"
   ]
  }
 ],
 "metadata": {
  "kernelspec": {
   "display_name": "Python 3 (ipykernel)",
   "language": "python",
   "name": "python3"
  },
  "language_info": {
   "codemirror_mode": {
    "name": "ipython",
    "version": 3
   },
   "file_extension": ".py",
   "mimetype": "text/x-python",
   "name": "python",
   "nbconvert_exporter": "python",
   "pygments_lexer": "ipython3",
   "version": "3.8.12"
  }
 },
 "nbformat": 4,
 "nbformat_minor": 4
}
